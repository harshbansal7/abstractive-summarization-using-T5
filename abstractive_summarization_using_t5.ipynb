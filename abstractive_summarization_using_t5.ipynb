{
  "metadata": {
    "kernelspec": {
      "language": "python",
      "display_name": "Python 3",
      "name": "python3"
    },
    "language_info": {
      "name": "python",
      "version": "3.7.12",
      "mimetype": "text/x-python",
      "codemirror_mode": {
        "name": "ipython",
        "version": 3
      },
      "pygments_lexer": "ipython3",
      "nbconvert_exporter": "python",
      "file_extension": ".py"
    },
    "colab": {
      "provenance": []
    },
    "accelerator": "GPU",
    "gpuClass": "standard"
  },
  "nbformat_minor": 0,
  "nbformat": 4,
  "cells": [
    {
      "cell_type": "code",
      "source": [
        "from google.colab import drive\n",
        "drive.mount('/content/drive')"
      ],
      "metadata": {
        "colab": {
          "base_uri": "https://localhost:8080/"
        },
        "id": "Jb4rNLO6CPO6",
        "outputId": "218aed55-c8e3-4d44-f43b-358c134eb4a6"
      },
      "execution_count": 1,
      "outputs": [
        {
          "output_type": "stream",
          "name": "stdout",
          "text": [
            "Drive already mounted at /content/drive; to attempt to forcibly remount, call drive.mount(\"/content/drive\", force_remount=True).\n"
          ]
        }
      ]
    },
    {
      "cell_type": "code",
      "source": [
        "import pandas as pd\n",
        "import nltk\n",
        "nltk.download('punkt')\n",
        "from nltk.tokenize import sent_tokenize\n",
        "from sklearn.model_selection import train_test_split\n",
        "\n",
        "# Load the data into a DataFrame\n",
        "df = pd.read_csv(\"/content/drive/MyDrive/abstractive-summarization-data/datasets/train.csv\")\n",
        "df_val = pd.read_csv(\"/content/drive/MyDrive/abstractive-summarization-data/datasets/val.csv\")\n"
      ],
      "metadata": {
        "_uuid": "8f2839f25d086af736a60e9eeb907d3b93b6e0e5",
        "_cell_guid": "b1076dfc-b9ad-4769-8c92-a6c4dae69d19",
        "execution": {
          "iopub.status.busy": "2023-01-21T12:38:23.434808Z",
          "iopub.execute_input": "2023-01-21T12:38:23.435260Z",
          "iopub.status.idle": "2023-01-21T12:38:24.718527Z",
          "shell.execute_reply.started": "2023-01-21T12:38:23.435177Z",
          "shell.execute_reply": "2023-01-21T12:38:24.717527Z"
        },
        "trusted": true,
        "colab": {
          "base_uri": "https://localhost:8080/"
        },
        "id": "7OQnjsdJ7beC",
        "outputId": "01d91e83-b14f-4f0b-88dd-d5d4129d2361"
      },
      "execution_count": 2,
      "outputs": [
        {
          "output_type": "stream",
          "name": "stderr",
          "text": [
            "[nltk_data] Downloading package punkt to /root/nltk_data...\n",
            "[nltk_data]   Package punkt is already up-to-date!\n"
          ]
        }
      ]
    },
    {
      "cell_type": "code",
      "source": [
        "# Tokenize the text into sentences\n",
        "df['Abstract'] = df['Abstract'].apply(sent_tokenize)\n",
        "df['RHS'] = df['RHS'].apply(sent_tokenize)\n",
        "\n",
        "df_val['Abstract'] = df_val['Abstract'].apply(sent_tokenize)\n",
        "df_val['RHS'] = df_val['RHS'].apply(sent_tokenize)\n",
        "\n",
        "# Convert tokenized sentences into a single string\n",
        "df['Abstract'] = df['Abstract'].apply(lambda x: ' '.join(x))\n",
        "df['RHS'] = df['RHS'].apply(lambda x: ' '.join(x))\n",
        "\n",
        "df_val['Abstract'] = df_val['Abstract'].apply(lambda x: ' '.join(x))\n",
        "df_val['RHS'] = df_val['RHS'].apply(lambda x: ' '.join(x))\n"
      ],
      "metadata": {
        "execution": {
          "iopub.status.busy": "2023-01-21T12:38:24.746930Z",
          "iopub.execute_input": "2023-01-21T12:38:24.747266Z",
          "iopub.status.idle": "2023-01-21T12:38:25.339743Z",
          "shell.execute_reply.started": "2023-01-21T12:38:24.747233Z",
          "shell.execute_reply": "2023-01-21T12:38:25.338808Z"
        },
        "trusted": true,
        "id": "ADWDBy8n7beL"
      },
      "execution_count": 3,
      "outputs": []
    },
    {
      "cell_type": "code",
      "source": [
        "df = df.drop(columns='FileName')\n",
        "df = df.rename(columns={\"Abstract\":\"source_text\", \"RHS\":\"target_text\"})\n",
        "df = df[['source_text', 'target_text']]\n",
        "\n",
        "df['source_text'] = df['source_text'].str.lower()\n",
        "df['target_text'] = df['target_text'].str.lower()\n",
        "\n",
        "df['source_text'] = \"summarize: \" + df['source_text']\n",
        "df\n",
        "\n",
        "df_val = df_val.drop(columns='FileName')\n",
        "df_val = df_val.rename(columns={\"Abstract\":\"source_text\", \"RHS\":\"target_text\"})\n",
        "df_val = df_val[['source_text', 'target_text']]\n",
        "\n",
        "df_val['source_text'] = df_val['source_text'].str.lower()\n",
        "df_val['target_text'] = df_val['target_text'].str.lower()\n",
        "\n",
        "df_val['source_text'] = \"summarize: \" + df_val['source_text']\n",
        "df_val"
      ],
      "metadata": {
        "execution": {
          "iopub.status.busy": "2023-01-21T12:38:25.342466Z",
          "iopub.execute_input": "2023-01-21T12:38:25.342901Z",
          "iopub.status.idle": "2023-01-21T12:38:25.375703Z",
          "shell.execute_reply.started": "2023-01-21T12:38:25.342864Z",
          "shell.execute_reply": "2023-01-21T12:38:25.374698Z"
        },
        "trusted": true,
        "id": "P3nxTYS07beM",
        "outputId": "7bc34bd5-518d-4d0c-bfe2-7ae94474c833",
        "colab": {
          "base_uri": "https://localhost:8080/",
          "height": 423
        }
      },
      "execution_count": 4,
      "outputs": [
        {
          "output_type": "execute_result",
          "data": {
            "text/plain": [
              "                                          source_text  \\\n",
              "0   summarize:  human face can be seen as a soft t...   \n",
              "1   summarize:  in this paper we use a numerical p...   \n",
              "2   summarize:  modularisation product platforms p...   \n",
              "3   summarize:  in order to investigate the micros...   \n",
              "4   summarize:  an efficient approach is proposed ...   \n",
              "..                                                ...   \n",
              "95  summarize:  this paper proposes a strategy for...   \n",
              "96  summarize:  a family of spatial beam finite el...   \n",
              "97  summarize:  a new adaptive multiscale method i...   \n",
              "98  summarize:  a nonlocal extension of the damage...   \n",
              "99  summarize:  this paper describes the developme...   \n",
              "\n",
              "                                          target_text  \n",
              "0   we model the deformation of the human face due...  \n",
              "1   bifurcation and postbifurcation of inflated hy...  \n",
              "2   existing methods in modular product family dev...  \n",
              "3   a drx model of fgh96 of ifw process is establi...  \n",
              "4   propose a pragmatic approach for simulating co...  \n",
              "..                                                ...  \n",
              "95  efficient strategy for gpu computing of fgfea ...  \n",
              "96  we analyse fixed pole approach in geometricall...  \n",
              "97  a new adaptive multiscale method amm is develo...  \n",
              "98  a new nonlocal damage plasticity model has bee...  \n",
              "99  a finite element model of bolt is proposed to ...  \n",
              "\n",
              "[100 rows x 2 columns]"
            ],
            "text/html": [
              "\n",
              "  <div id=\"df-cae419cc-7512-45d6-9ddb-56ca0b3ca376\">\n",
              "    <div class=\"colab-df-container\">\n",
              "      <div>\n",
              "<style scoped>\n",
              "    .dataframe tbody tr th:only-of-type {\n",
              "        vertical-align: middle;\n",
              "    }\n",
              "\n",
              "    .dataframe tbody tr th {\n",
              "        vertical-align: top;\n",
              "    }\n",
              "\n",
              "    .dataframe thead th {\n",
              "        text-align: right;\n",
              "    }\n",
              "</style>\n",
              "<table border=\"1\" class=\"dataframe\">\n",
              "  <thead>\n",
              "    <tr style=\"text-align: right;\">\n",
              "      <th></th>\n",
              "      <th>source_text</th>\n",
              "      <th>target_text</th>\n",
              "    </tr>\n",
              "  </thead>\n",
              "  <tbody>\n",
              "    <tr>\n",
              "      <th>0</th>\n",
              "      <td>summarize:  human face can be seen as a soft t...</td>\n",
              "      <td>we model the deformation of the human face due...</td>\n",
              "    </tr>\n",
              "    <tr>\n",
              "      <th>1</th>\n",
              "      <td>summarize:  in this paper we use a numerical p...</td>\n",
              "      <td>bifurcation and postbifurcation of inflated hy...</td>\n",
              "    </tr>\n",
              "    <tr>\n",
              "      <th>2</th>\n",
              "      <td>summarize:  modularisation product platforms p...</td>\n",
              "      <td>existing methods in modular product family dev...</td>\n",
              "    </tr>\n",
              "    <tr>\n",
              "      <th>3</th>\n",
              "      <td>summarize:  in order to investigate the micros...</td>\n",
              "      <td>a drx model of fgh96 of ifw process is establi...</td>\n",
              "    </tr>\n",
              "    <tr>\n",
              "      <th>4</th>\n",
              "      <td>summarize:  an efficient approach is proposed ...</td>\n",
              "      <td>propose a pragmatic approach for simulating co...</td>\n",
              "    </tr>\n",
              "    <tr>\n",
              "      <th>...</th>\n",
              "      <td>...</td>\n",
              "      <td>...</td>\n",
              "    </tr>\n",
              "    <tr>\n",
              "      <th>95</th>\n",
              "      <td>summarize:  this paper proposes a strategy for...</td>\n",
              "      <td>efficient strategy for gpu computing of fgfea ...</td>\n",
              "    </tr>\n",
              "    <tr>\n",
              "      <th>96</th>\n",
              "      <td>summarize:  a family of spatial beam finite el...</td>\n",
              "      <td>we analyse fixed pole approach in geometricall...</td>\n",
              "    </tr>\n",
              "    <tr>\n",
              "      <th>97</th>\n",
              "      <td>summarize:  a new adaptive multiscale method i...</td>\n",
              "      <td>a new adaptive multiscale method amm is develo...</td>\n",
              "    </tr>\n",
              "    <tr>\n",
              "      <th>98</th>\n",
              "      <td>summarize:  a nonlocal extension of the damage...</td>\n",
              "      <td>a new nonlocal damage plasticity model has bee...</td>\n",
              "    </tr>\n",
              "    <tr>\n",
              "      <th>99</th>\n",
              "      <td>summarize:  this paper describes the developme...</td>\n",
              "      <td>a finite element model of bolt is proposed to ...</td>\n",
              "    </tr>\n",
              "  </tbody>\n",
              "</table>\n",
              "<p>100 rows × 2 columns</p>\n",
              "</div>\n",
              "      <button class=\"colab-df-convert\" onclick=\"convertToInteractive('df-cae419cc-7512-45d6-9ddb-56ca0b3ca376')\"\n",
              "              title=\"Convert this dataframe to an interactive table.\"\n",
              "              style=\"display:none;\">\n",
              "        \n",
              "  <svg xmlns=\"http://www.w3.org/2000/svg\" height=\"24px\"viewBox=\"0 0 24 24\"\n",
              "       width=\"24px\">\n",
              "    <path d=\"M0 0h24v24H0V0z\" fill=\"none\"/>\n",
              "    <path d=\"M18.56 5.44l.94 2.06.94-2.06 2.06-.94-2.06-.94-.94-2.06-.94 2.06-2.06.94zm-11 1L8.5 8.5l.94-2.06 2.06-.94-2.06-.94L8.5 2.5l-.94 2.06-2.06.94zm10 10l.94 2.06.94-2.06 2.06-.94-2.06-.94-.94-2.06-.94 2.06-2.06.94z\"/><path d=\"M17.41 7.96l-1.37-1.37c-.4-.4-.92-.59-1.43-.59-.52 0-1.04.2-1.43.59L10.3 9.45l-7.72 7.72c-.78.78-.78 2.05 0 2.83L4 21.41c.39.39.9.59 1.41.59.51 0 1.02-.2 1.41-.59l7.78-7.78 2.81-2.81c.8-.78.8-2.07 0-2.86zM5.41 20L4 18.59l7.72-7.72 1.47 1.35L5.41 20z\"/>\n",
              "  </svg>\n",
              "      </button>\n",
              "      \n",
              "  <style>\n",
              "    .colab-df-container {\n",
              "      display:flex;\n",
              "      flex-wrap:wrap;\n",
              "      gap: 12px;\n",
              "    }\n",
              "\n",
              "    .colab-df-convert {\n",
              "      background-color: #E8F0FE;\n",
              "      border: none;\n",
              "      border-radius: 50%;\n",
              "      cursor: pointer;\n",
              "      display: none;\n",
              "      fill: #1967D2;\n",
              "      height: 32px;\n",
              "      padding: 0 0 0 0;\n",
              "      width: 32px;\n",
              "    }\n",
              "\n",
              "    .colab-df-convert:hover {\n",
              "      background-color: #E2EBFA;\n",
              "      box-shadow: 0px 1px 2px rgba(60, 64, 67, 0.3), 0px 1px 3px 1px rgba(60, 64, 67, 0.15);\n",
              "      fill: #174EA6;\n",
              "    }\n",
              "\n",
              "    [theme=dark] .colab-df-convert {\n",
              "      background-color: #3B4455;\n",
              "      fill: #D2E3FC;\n",
              "    }\n",
              "\n",
              "    [theme=dark] .colab-df-convert:hover {\n",
              "      background-color: #434B5C;\n",
              "      box-shadow: 0px 1px 3px 1px rgba(0, 0, 0, 0.15);\n",
              "      filter: drop-shadow(0px 1px 2px rgba(0, 0, 0, 0.3));\n",
              "      fill: #FFFFFF;\n",
              "    }\n",
              "  </style>\n",
              "\n",
              "      <script>\n",
              "        const buttonEl =\n",
              "          document.querySelector('#df-cae419cc-7512-45d6-9ddb-56ca0b3ca376 button.colab-df-convert');\n",
              "        buttonEl.style.display =\n",
              "          google.colab.kernel.accessAllowed ? 'block' : 'none';\n",
              "\n",
              "        async function convertToInteractive(key) {\n",
              "          const element = document.querySelector('#df-cae419cc-7512-45d6-9ddb-56ca0b3ca376');\n",
              "          const dataTable =\n",
              "            await google.colab.kernel.invokeFunction('convertToInteractive',\n",
              "                                                     [key], {});\n",
              "          if (!dataTable) return;\n",
              "\n",
              "          const docLinkHtml = 'Like what you see? Visit the ' +\n",
              "            '<a target=\"_blank\" href=https://colab.research.google.com/notebooks/data_table.ipynb>data table notebook</a>'\n",
              "            + ' to learn more about interactive tables.';\n",
              "          element.innerHTML = '';\n",
              "          dataTable['output_type'] = 'display_data';\n",
              "          await google.colab.output.renderOutput(dataTable, element);\n",
              "          const docLink = document.createElement('div');\n",
              "          docLink.innerHTML = docLinkHtml;\n",
              "          element.appendChild(docLink);\n",
              "        }\n",
              "      </script>\n",
              "    </div>\n",
              "  </div>\n",
              "  "
            ]
          },
          "metadata": {},
          "execution_count": 4
        }
      ]
    },
    {
      "cell_type": "code",
      "source": [
        "%%capture\n",
        "!pip install --upgrade simplet5"
      ],
      "metadata": {
        "execution": {
          "iopub.status.busy": "2023-01-21T12:38:25.377086Z",
          "iopub.execute_input": "2023-01-21T12:38:25.378048Z",
          "iopub.status.idle": "2023-01-21T12:38:59.455568Z",
          "shell.execute_reply.started": "2023-01-21T12:38:25.378012Z",
          "shell.execute_reply": "2023-01-21T12:38:59.454440Z"
        },
        "trusted": true,
        "id": "7EgYrmMJ7beN"
      },
      "execution_count": 5,
      "outputs": []
    },
    {
      "cell_type": "code",
      "source": [
        "# import\n",
        "from simplet5 import SimpleT5\n",
        "\n",
        "# instantiate\n",
        "model = SimpleT5()\n",
        "\n",
        "# load (supports t5, mt5, byT5 models)\n",
        "model.from_pretrained(\"t5\",\"t5-small\")\n"
      ],
      "metadata": {
        "execution": {
          "iopub.status.busy": "2023-01-21T12:38:59.457365Z",
          "iopub.execute_input": "2023-01-21T12:38:59.458095Z",
          "iopub.status.idle": "2023-01-21T12:39:14.528255Z",
          "shell.execute_reply.started": "2023-01-21T12:38:59.458055Z",
          "shell.execute_reply": "2023-01-21T12:39:14.527161Z"
        },
        "trusted": true,
        "colab": {
          "base_uri": "https://localhost:8080/"
        },
        "id": "jDO1RkYk7beO",
        "outputId": "379d9240-335b-489a-b6ec-97513c3b49d4"
      },
      "execution_count": 6,
      "outputs": [
        {
          "output_type": "stream",
          "name": "stderr",
          "text": [
            "INFO:pytorch_lightning.utilities.seed:Global seed set to 42\n"
          ]
        }
      ]
    },
    {
      "cell_type": "code",
      "source": [
        "# model.train(train_df=df, # pandas dataframe with 2 columns: source_text & target_text\n",
        "#             eval_df=df_val, # pandas dataframe with 2 columns: source_text & target_text\n",
        "#             source_max_token_len = 512, \n",
        "#             target_max_token_len = 128,\n",
        "#             batch_size = 32,\n",
        "#             max_epochs = 10,\n",
        "#             use_gpu = True,\n",
        "#             outputdir = \"/kaggle/working/\",\n",
        "#             early_stopping_patience_epochs = 0,\n",
        "#             precision = 32\n",
        "# )"
      ],
      "metadata": {
        "execution": {
          "iopub.status.busy": "2023-01-21T12:39:14.529713Z",
          "iopub.execute_input": "2023-01-21T12:39:14.530454Z",
          "iopub.status.idle": "2023-01-21T12:53:18.230822Z",
          "shell.execute_reply.started": "2023-01-21T12:39:14.530415Z",
          "shell.execute_reply": "2023-01-21T12:53:18.229763Z"
        },
        "trusted": true,
        "id": "VEaxnGs57beP"
      },
      "execution_count": 7,
      "outputs": []
    },
    {
      "cell_type": "code",
      "source": [
        "model.load_model(\"t5\",\"/content/drive/MyDrive/abstractive-summarization-data/t5-small-model-finetuned\", use_gpu=True)"
      ],
      "metadata": {
        "execution": {
          "iopub.status.busy": "2023-01-21T12:53:53.360566Z",
          "iopub.execute_input": "2023-01-21T12:53:53.360921Z",
          "iopub.status.idle": "2023-01-21T12:53:54.526893Z",
          "shell.execute_reply.started": "2023-01-21T12:53:53.360891Z",
          "shell.execute_reply": "2023-01-21T12:53:54.525559Z"
        },
        "trusted": true,
        "id": "T8KwnK0i7beQ"
      },
      "execution_count": 8,
      "outputs": []
    },
    {
      "cell_type": "code",
      "source": [
        "%%capture\n",
        "!pip install pytextrank\n",
        "!python -m spacy download en_core_web_sm\n",
        "!pip install --upgrade scipy networkx"
      ],
      "metadata": {
        "_kg_hide-output": false,
        "execution": {
          "iopub.status.idle": "2023-01-21T12:54:32.642652Z",
          "shell.execute_reply.started": "2023-01-21T12:53:56.168517Z",
          "shell.execute_reply": "2023-01-21T12:54:32.641478Z"
        },
        "trusted": true,
        "id": "E-azzzMe7beQ"
      },
      "execution_count": 9,
      "outputs": []
    },
    {
      "cell_type": "code",
      "source": [
        "import spacy\n",
        "import pytextrank\n",
        "\n",
        "def extract_important_sentences(text, limit_phrases=15, limit_sentences=5):\n",
        "    en_nlp = spacy.load(\"en_core_web_sm\")\n",
        "    en_nlp.add_pipe(\"textrank\", last=True)\n",
        "    doc = en_nlp(text)\n",
        "    tr = doc._.textrank\n",
        "    summary = \"\"\n",
        "    for sent in tr.summary(limit_phrases=limit_phrases, limit_sentences=limit_sentences):\n",
        "        summary += sent.text + \" \"\n",
        "    return summary"
      ],
      "metadata": {
        "execution": {
          "iopub.status.busy": "2023-01-21T13:05:02.254650Z",
          "iopub.execute_input": "2023-01-21T13:05:02.255053Z",
          "iopub.status.idle": "2023-01-21T13:05:02.262452Z",
          "shell.execute_reply.started": "2023-01-21T13:05:02.255019Z",
          "shell.execute_reply": "2023-01-21T13:05:02.261113Z"
        },
        "trusted": true,
        "id": "FpeCXN6d7beR"
      },
      "execution_count": 10,
      "outputs": []
    },
    {
      "cell_type": "code",
      "source": [
        "!pip install textblob"
      ],
      "metadata": {
        "id": "txAYNv4SPz2L"
      },
      "execution_count": null,
      "outputs": []
    },
    {
      "cell_type": "code",
      "source": [
        "def create_summaries(text):\n",
        "\n",
        "    print(\"ACTUAL ABSTRACT - \" + text)\n",
        "    print(\"\\nLength of Abstract = \" + str(len(text.split())))\n",
        "    sumtext = \"summarize: \" + text.lower()\n",
        "    actual_text_prediction = model.predict(sumtext)[0]\n",
        "    print(\"\\nDIRECT SUMMARIZATION USING T5 - \" + actual_text_prediction)\n",
        "    print(\"\\nLength of Summary = \" + str(len(actual_text_prediction.split())))\n",
        "\n",
        "    newtext = extract_important_sentences(text, 20, 6)\n",
        "    newtext = \"summarize: \" + newtext.lower()\n",
        "    extractive_text_prediction = model.predict(newtext)[0]\n",
        "    print(\"\\nSUMMARIZATION AFTER EXTRACTIVE USING T5 - \" + extractive_text_prediction)\n",
        "    print(\"\\nLength of Summary = \" + str(len(extractive_text_prediction.split())))"
      ],
      "metadata": {
        "id": "wcIQOHTVDo-C"
      },
      "execution_count": 37,
      "outputs": []
    },
    {
      "cell_type": "code",
      "source": [
        "text = \"\"\"Having great edge over traditional semiconductor-based devices, heterostructures are widely used as a basic building block in the advanced semiconductor devices owing to their essential and attractive structural, interfacial, and electronic properties. In general, heterostructures have a comparatively better electrical and optical performance with respect to the layers of individual materials. The study of semiconductor heterojunctions is a step towards utilization of more and more semiconducting materials for the fabrication of heterojunction devices. With the motive to understand basics of such devices, this paper discusses about the main concept of heterojunctions, heterostructures and their classifications in detail. Moving forward, we finally finish off this term paper with the applications of Heterojunctions, by discussing about Lasers and Solar Cells and the references\"\"\""
      ],
      "metadata": {
        "execution": {
          "iopub.status.busy": "2023-01-21T13:26:54.838972Z",
          "iopub.execute_input": "2023-01-21T13:26:54.839364Z",
          "iopub.status.idle": "2023-01-21T13:26:54.845014Z",
          "shell.execute_reply.started": "2023-01-21T13:26:54.839332Z",
          "shell.execute_reply": "2023-01-21T13:26:54.843921Z"
        },
        "trusted": true,
        "id": "UeSY5X5f7beR"
      },
      "execution_count": 39,
      "outputs": []
    },
    {
      "cell_type": "code",
      "source": [
        "create_summaries(text)"
      ],
      "metadata": {
        "execution": {
          "iopub.status.busy": "2023-01-21T13:26:56.318085Z",
          "iopub.execute_input": "2023-01-21T13:26:56.318833Z",
          "iopub.status.idle": "2023-01-21T13:26:56.991525Z",
          "shell.execute_reply.started": "2023-01-21T13:26:56.318787Z",
          "shell.execute_reply": "2023-01-21T13:26:56.989803Z"
        },
        "trusted": true,
        "id": "w_Gjt1iq7beR",
        "outputId": "aba68de3-08d1-41ad-e347-038e1fa7888f",
        "colab": {
          "base_uri": "https://localhost:8080/"
        }
      },
      "execution_count": 40,
      "outputs": [
        {
          "output_type": "stream",
          "name": "stdout",
          "text": [
            "ACTUAL ABSTRACT - Having great edge over traditional semiconductor-based devices, heterostructures are widely used as a basic building block in the advanced semiconductor devices owing to their essential and attractive structural, interfacial, and electronic properties. In general, heterostructures have a comparatively better electrical and optical performance with respect to the layers of individual materials. The study of semiconductor heterojunctions is a step towards utilization of more and more semiconducting materials for the fabrication of heterojunction devices. With the motive to understand basics of such devices, this paper discusses about the main concept of heterojunctions, heterostructures and their classifications in detail. Moving forward, we finally finish off this term paper with the applications of Heterojunctions, by discussing about Lasers and Solar Cells and the references\n",
            "\n",
            "Length of Abstract = 121\n",
            "\n",
            "DIRECT SUMMARIZATION USING T5 - the main concept of heterojunctions, heterostructures and their classifications in detail. we finally finish off this term paper with the applications of heterojunctions.\n",
            "\n",
            "Length of Summary = 23\n",
            "\n",
            "SUMMARIZATION AFTER EXTRACTIVE USING T5 - the study of semiconductor heterojunctions is a step towards utilization of more semiconducting materials for the fabrication of heterojunction devices. this term paper discusses the main concept of heterojunctions and their classifications in detail. heterostructures are widely used as a basic building block in the advanced semiconductor devices.\n",
            "\n",
            "Length of Summary = 48\n"
          ]
        }
      ]
    },
    {
      "cell_type": "code",
      "source": [
        "# import shutil\n",
        "# shutil.make_archive('yeet', 'zip', '/kaggle/working/simplet5-epoch-9-train-loss-2.4841-val-loss-2.5633')"
      ],
      "metadata": {
        "execution": {
          "iopub.status.busy": "2023-01-21T13:07:13.496997Z",
          "iopub.execute_input": "2023-01-21T13:07:13.497751Z",
          "iopub.status.idle": "2023-01-21T13:07:28.290402Z",
          "shell.execute_reply.started": "2023-01-21T13:07:13.497715Z",
          "shell.execute_reply": "2023-01-21T13:07:28.289435Z"
        },
        "trusted": true,
        "id": "YD2M_bBA7beU"
      },
      "execution_count": 15,
      "outputs": []
    },
    {
      "cell_type": "code",
      "source": [
        "# Create an empty dataframe\n",
        "pred_df = pd.DataFrame(columns=[\"target_text\", \"predicted_text\"])\n",
        "\n",
        "# Iterate over the validation dataset\n",
        "for i, row in df_val.iterrows():\n",
        "    # Make a prediction for the current row\n",
        "    pred_text = model.predict(row[\"source_text\"])\n",
        "    # Add the prediction and the target text to the new dataframe\n",
        "    pred_df.loc[i] = [row[\"target_text\"], pred_text[0]]\n",
        "    \n",
        "pred_df"
      ],
      "metadata": {
        "execution": {
          "iopub.status.busy": "2023-01-21T13:38:56.150598Z",
          "iopub.execute_input": "2023-01-21T13:38:56.150948Z",
          "iopub.status.idle": "2023-01-21T13:40:28.511595Z",
          "shell.execute_reply.started": "2023-01-21T13:38:56.150912Z",
          "shell.execute_reply": "2023-01-21T13:40:28.510580Z"
        },
        "trusted": true,
        "id": "fX-M0O0C7beU",
        "colab": {
          "base_uri": "https://localhost:8080/",
          "height": 441
        },
        "outputId": "d90709bd-5482-487f-c1af-723aaee39c0d"
      },
      "execution_count": 16,
      "outputs": [
        {
          "output_type": "stream",
          "name": "stderr",
          "text": [
            "Token indices sequence length is longer than the specified maximum sequence length for this model (571 > 512). Running this sequence through the model will result in indexing errors\n"
          ]
        },
        {
          "output_type": "execute_result",
          "data": {
            "text/plain": [
              "                                          target_text  \\\n",
              "0   we model the deformation of the human face due...   \n",
              "1   bifurcation and postbifurcation of inflated hy...   \n",
              "2   existing methods in modular product family dev...   \n",
              "3   a drx model of fgh96 of ifw process is establi...   \n",
              "4   propose a pragmatic approach for simulating co...   \n",
              "..                                                ...   \n",
              "95  efficient strategy for gpu computing of fgfea ...   \n",
              "96  we analyse fixed pole approach in geometricall...   \n",
              "97  a new adaptive multiscale method amm is develo...   \n",
              "98  a new nonlocal damage plasticity model has bee...   \n",
              "99  a finite element model of bolt is proposed to ...   \n",
              "\n",
              "                                       predicted_text  \n",
              "0   a new approach to evaluate muscle contribution...  \n",
              "1   we propose a numerical procedure to analyse bi...  \n",
              "2   we propose a novel method for modularisation o...  \n",
              "3   the dynamic recrystallization kinetic model of...  \n",
              "4   an efficient approach is proposed to predict t...  \n",
              "..                                                ...  \n",
              "95  we propose a strategy for the efficient implem...  \n",
              "96  a family of spatial beam finite elements based...  \n",
              "97  a new adaptive multiscale method is proposed t...  \n",
              "98  a nonlocal extension of the damage plasticity ...  \n",
              "99  a reduced model of a fastener using multi conn...  \n",
              "\n",
              "[100 rows x 2 columns]"
            ],
            "text/html": [
              "\n",
              "  <div id=\"df-6323785f-a5b4-4d59-898f-fa2ce1dc7c2a\">\n",
              "    <div class=\"colab-df-container\">\n",
              "      <div>\n",
              "<style scoped>\n",
              "    .dataframe tbody tr th:only-of-type {\n",
              "        vertical-align: middle;\n",
              "    }\n",
              "\n",
              "    .dataframe tbody tr th {\n",
              "        vertical-align: top;\n",
              "    }\n",
              "\n",
              "    .dataframe thead th {\n",
              "        text-align: right;\n",
              "    }\n",
              "</style>\n",
              "<table border=\"1\" class=\"dataframe\">\n",
              "  <thead>\n",
              "    <tr style=\"text-align: right;\">\n",
              "      <th></th>\n",
              "      <th>target_text</th>\n",
              "      <th>predicted_text</th>\n",
              "    </tr>\n",
              "  </thead>\n",
              "  <tbody>\n",
              "    <tr>\n",
              "      <th>0</th>\n",
              "      <td>we model the deformation of the human face due...</td>\n",
              "      <td>a new approach to evaluate muscle contribution...</td>\n",
              "    </tr>\n",
              "    <tr>\n",
              "      <th>1</th>\n",
              "      <td>bifurcation and postbifurcation of inflated hy...</td>\n",
              "      <td>we propose a numerical procedure to analyse bi...</td>\n",
              "    </tr>\n",
              "    <tr>\n",
              "      <th>2</th>\n",
              "      <td>existing methods in modular product family dev...</td>\n",
              "      <td>we propose a novel method for modularisation o...</td>\n",
              "    </tr>\n",
              "    <tr>\n",
              "      <th>3</th>\n",
              "      <td>a drx model of fgh96 of ifw process is establi...</td>\n",
              "      <td>the dynamic recrystallization kinetic model of...</td>\n",
              "    </tr>\n",
              "    <tr>\n",
              "      <th>4</th>\n",
              "      <td>propose a pragmatic approach for simulating co...</td>\n",
              "      <td>an efficient approach is proposed to predict t...</td>\n",
              "    </tr>\n",
              "    <tr>\n",
              "      <th>...</th>\n",
              "      <td>...</td>\n",
              "      <td>...</td>\n",
              "    </tr>\n",
              "    <tr>\n",
              "      <th>95</th>\n",
              "      <td>efficient strategy for gpu computing of fgfea ...</td>\n",
              "      <td>we propose a strategy for the efficient implem...</td>\n",
              "    </tr>\n",
              "    <tr>\n",
              "      <th>96</th>\n",
              "      <td>we analyse fixed pole approach in geometricall...</td>\n",
              "      <td>a family of spatial beam finite elements based...</td>\n",
              "    </tr>\n",
              "    <tr>\n",
              "      <th>97</th>\n",
              "      <td>a new adaptive multiscale method amm is develo...</td>\n",
              "      <td>a new adaptive multiscale method is proposed t...</td>\n",
              "    </tr>\n",
              "    <tr>\n",
              "      <th>98</th>\n",
              "      <td>a new nonlocal damage plasticity model has bee...</td>\n",
              "      <td>a nonlocal extension of the damage plasticity ...</td>\n",
              "    </tr>\n",
              "    <tr>\n",
              "      <th>99</th>\n",
              "      <td>a finite element model of bolt is proposed to ...</td>\n",
              "      <td>a reduced model of a fastener using multi conn...</td>\n",
              "    </tr>\n",
              "  </tbody>\n",
              "</table>\n",
              "<p>100 rows × 2 columns</p>\n",
              "</div>\n",
              "      <button class=\"colab-df-convert\" onclick=\"convertToInteractive('df-6323785f-a5b4-4d59-898f-fa2ce1dc7c2a')\"\n",
              "              title=\"Convert this dataframe to an interactive table.\"\n",
              "              style=\"display:none;\">\n",
              "        \n",
              "  <svg xmlns=\"http://www.w3.org/2000/svg\" height=\"24px\"viewBox=\"0 0 24 24\"\n",
              "       width=\"24px\">\n",
              "    <path d=\"M0 0h24v24H0V0z\" fill=\"none\"/>\n",
              "    <path d=\"M18.56 5.44l.94 2.06.94-2.06 2.06-.94-2.06-.94-.94-2.06-.94 2.06-2.06.94zm-11 1L8.5 8.5l.94-2.06 2.06-.94-2.06-.94L8.5 2.5l-.94 2.06-2.06.94zm10 10l.94 2.06.94-2.06 2.06-.94-2.06-.94-.94-2.06-.94 2.06-2.06.94z\"/><path d=\"M17.41 7.96l-1.37-1.37c-.4-.4-.92-.59-1.43-.59-.52 0-1.04.2-1.43.59L10.3 9.45l-7.72 7.72c-.78.78-.78 2.05 0 2.83L4 21.41c.39.39.9.59 1.41.59.51 0 1.02-.2 1.41-.59l7.78-7.78 2.81-2.81c.8-.78.8-2.07 0-2.86zM5.41 20L4 18.59l7.72-7.72 1.47 1.35L5.41 20z\"/>\n",
              "  </svg>\n",
              "      </button>\n",
              "      \n",
              "  <style>\n",
              "    .colab-df-container {\n",
              "      display:flex;\n",
              "      flex-wrap:wrap;\n",
              "      gap: 12px;\n",
              "    }\n",
              "\n",
              "    .colab-df-convert {\n",
              "      background-color: #E8F0FE;\n",
              "      border: none;\n",
              "      border-radius: 50%;\n",
              "      cursor: pointer;\n",
              "      display: none;\n",
              "      fill: #1967D2;\n",
              "      height: 32px;\n",
              "      padding: 0 0 0 0;\n",
              "      width: 32px;\n",
              "    }\n",
              "\n",
              "    .colab-df-convert:hover {\n",
              "      background-color: #E2EBFA;\n",
              "      box-shadow: 0px 1px 2px rgba(60, 64, 67, 0.3), 0px 1px 3px 1px rgba(60, 64, 67, 0.15);\n",
              "      fill: #174EA6;\n",
              "    }\n",
              "\n",
              "    [theme=dark] .colab-df-convert {\n",
              "      background-color: #3B4455;\n",
              "      fill: #D2E3FC;\n",
              "    }\n",
              "\n",
              "    [theme=dark] .colab-df-convert:hover {\n",
              "      background-color: #434B5C;\n",
              "      box-shadow: 0px 1px 3px 1px rgba(0, 0, 0, 0.15);\n",
              "      filter: drop-shadow(0px 1px 2px rgba(0, 0, 0, 0.3));\n",
              "      fill: #FFFFFF;\n",
              "    }\n",
              "  </style>\n",
              "\n",
              "      <script>\n",
              "        const buttonEl =\n",
              "          document.querySelector('#df-6323785f-a5b4-4d59-898f-fa2ce1dc7c2a button.colab-df-convert');\n",
              "        buttonEl.style.display =\n",
              "          google.colab.kernel.accessAllowed ? 'block' : 'none';\n",
              "\n",
              "        async function convertToInteractive(key) {\n",
              "          const element = document.querySelector('#df-6323785f-a5b4-4d59-898f-fa2ce1dc7c2a');\n",
              "          const dataTable =\n",
              "            await google.colab.kernel.invokeFunction('convertToInteractive',\n",
              "                                                     [key], {});\n",
              "          if (!dataTable) return;\n",
              "\n",
              "          const docLinkHtml = 'Like what you see? Visit the ' +\n",
              "            '<a target=\"_blank\" href=https://colab.research.google.com/notebooks/data_table.ipynb>data table notebook</a>'\n",
              "            + ' to learn more about interactive tables.';\n",
              "          element.innerHTML = '';\n",
              "          dataTable['output_type'] = 'display_data';\n",
              "          await google.colab.output.renderOutput(dataTable, element);\n",
              "          const docLink = document.createElement('div');\n",
              "          docLink.innerHTML = docLinkHtml;\n",
              "          element.appendChild(docLink);\n",
              "        }\n",
              "      </script>\n",
              "    </div>\n",
              "  </div>\n",
              "  "
            ]
          },
          "metadata": {},
          "execution_count": 16
        }
      ]
    },
    {
      "cell_type": "code",
      "source": [
        "!pip install py-rouge"
      ],
      "metadata": {
        "colab": {
          "base_uri": "https://localhost:8080/"
        },
        "id": "gN5er3jxEWRQ",
        "outputId": "a8ba44a8-5cd1-4611-bdda-550246fe4770"
      },
      "execution_count": 17,
      "outputs": [
        {
          "output_type": "stream",
          "name": "stdout",
          "text": [
            "Looking in indexes: https://pypi.org/simple, https://us-python.pkg.dev/colab-wheels/public/simple/\n",
            "Collecting py-rouge\n",
            "  Downloading py_rouge-1.1-py3-none-any.whl (56 kB)\n",
            "\u001b[2K     \u001b[90m━━━━━━━━━━━━━━━━━━━━━━━━━━━━━━━━━━━━━━━━\u001b[0m \u001b[32m56.8/56.8 KB\u001b[0m \u001b[31m7.5 MB/s\u001b[0m eta \u001b[36m0:00:00\u001b[0m\n",
            "\u001b[?25hInstalling collected packages: py-rouge\n",
            "Successfully installed py-rouge-1.1\n"
          ]
        }
      ]
    },
    {
      "cell_type": "code",
      "source": [
        "import rouge\n",
        "\n",
        "def prepare_results(p, r, f):\n",
        "    return '\\t{}:\\t{}: {:5.2f}\\t{}: {:5.2f}\\t{}: {:5.2f}'.format(metric, 'P', 100.0 * p, 'R', 100.0 * r, 'F1', 100.0 * f)\n",
        "\n",
        "\n",
        "for aggregator in ['Avg', 'Best']:\n",
        "    print('Evaluation with {}'.format(aggregator))\n",
        "    apply_avg = aggregator == 'Avg'\n",
        "    apply_best = aggregator == 'Best'\n",
        "\n",
        "    evaluator = rouge.Rouge(metrics=['rouge-n', 'rouge-l', 'rouge-w'],\n",
        "                           max_n=2,\n",
        "                           limit_length=True,\n",
        "                           length_limit=100,\n",
        "                           length_limit_type='words',\n",
        "                           apply_avg=apply_avg,\n",
        "                           apply_best=apply_best,\n",
        "                           alpha=0.5, # Default F1_score\n",
        "                           weight_factor=1.2,\n",
        "                           stemming=True)\n",
        "\n",
        "\n",
        "    all_hypothesis = pred_df['predicted_text']\n",
        "    all_references = pred_df['target_text']\n",
        "\n",
        "    scores = evaluator.get_scores(all_hypothesis, all_references)\n",
        "\n",
        "    for metric, results in sorted(scores.items(), key=lambda x: x[0]):\n",
        "        if not apply_avg and not apply_best: # value is a type of list as we evaluate each summary vs each reference\n",
        "            for hypothesis_id, results_per_ref in enumerate(results):\n",
        "                nb_references = len(results_per_ref['p'])\n",
        "                for reference_id in range(nb_references):\n",
        "                    print('\\tHypothesis #{} & Reference #{}: '.format(hypothesis_id, reference_id))\n",
        "                    print('\\t' + prepare_results(results_per_ref['p'][reference_id], results_per_ref['r'][reference_id], results_per_ref['f'][reference_id]))\n",
        "            print()\n",
        "        else:\n",
        "            print(prepare_results(results['p'], results['r'], results['f']))\n",
        "    print()"
      ],
      "metadata": {
        "colab": {
          "base_uri": "https://localhost:8080/"
        },
        "id": "FZEHqeADEaPe",
        "outputId": "5455b8ef-ed3d-461d-f21f-c058e6f23ce7"
      },
      "execution_count": 18,
      "outputs": [
        {
          "output_type": "stream",
          "name": "stdout",
          "text": [
            "Evaluation with Avg\n",
            "\trouge-1:\tP: 42.16\tR: 49.52\tF1: 44.57\n",
            "\trouge-2:\tP: 18.54\tR: 21.66\tF1: 19.53\n",
            "\trouge-l:\tP: 36.00\tR: 41.06\tF1: 37.77\n",
            "\trouge-w:\tP: 22.85\tR: 12.14\tF1: 15.46\n",
            "\n",
            "Evaluation with Best\n",
            "\trouge-1:\tP: 42.16\tR: 49.52\tF1: 44.57\n",
            "\trouge-2:\tP: 18.54\tR: 21.66\tF1: 19.53\n",
            "\trouge-l:\tP: 36.00\tR: 41.06\tF1: 37.77\n",
            "\trouge-w:\tP: 22.85\tR: 12.14\tF1: 15.46\n",
            "\n"
          ]
        }
      ]
    },
    {
      "cell_type": "code",
      "source": [
        "create_summaries(\"\"\"The study objective is to contemplate the effectiveness of COVID-19 on the air pollution of Indian ter\u0002ritory from January 2020 to April 2020. We have executed data from European Space Agency (ESA) and CPCB online portal for air quality data dissemination. The Sentinel e 5 P satellite images elucidate that the Air quality of Indian territory has been improved significantly during COVID-19. Mumbai and Delhi are one of the most populated cities. These two cities have observed a substantial decrease in Nitrogen Dioxide (40e50%) compared to the same period last year. It suggests that the emergence of COVID-19 has been proved to a necessary evil as being advantageous for mitigating air pollution on Indian territory during the lock-down. The study found a significant decline in Nitrogen Dioxide in reputed states of India, i.e., Delhi and Mumbai. Moreover, a faded track of Nitrogen Dioxide can be seen at the Maritime route in the Indian Ocean. An upsurge in the environmental quality of India will also be beneficial for its neighbor countries, i.e., China, Pakistan, Iran, and Afghanistan.\"\"\")"
      ],
      "metadata": {
        "colab": {
          "base_uri": "https://localhost:8080/"
        },
        "id": "abNM4-GDFdVo",
        "outputId": "c0d8c8ce-f132-43c3-d38d-af88a67c50e3"
      },
      "execution_count": 19,
      "outputs": [
        {
          "output_type": "stream",
          "name": "stdout",
          "text": [
            "ACTUAL ABSTRACT - The study objective is to contemplate the effectiveness of COVID-19 on the air pollution of Indian ter\u0002ritory from January 2020 to April 2020. We have executed data from European Space Agency (ESA) and CPCB online portal for air quality data dissemination. The Sentinel e 5 P satellite images elucidate that the Air quality of Indian territory has been improved significantly during COVID-19. Mumbai and Delhi are one of the most populated cities. These two cities have observed a substantial decrease in Nitrogen Dioxide (40e50%) compared to the same period last year. It suggests that the emergence of COVID-19 has been proved to a necessary evil as being advantageous for mitigating air pollution on Indian territory during the lock-down. The study found a significant decline in Nitrogen Dioxide in reputed states of India, i.e., Delhi and Mumbai. Moreover, a faded track of Nitrogen Dioxide can be seen at the Maritime route in the Indian Ocean. An upsurge in the environmental quality of India will also be beneficial for its neighbor countries, i.e., China, Pakistan, Iran, and Afghanistan.\n",
            "\n",
            "Length of Abstract = 176\n",
            "\n",
            "DIRECT SUMMARIZATION USING T5 - covid-19 is beneficial for mitigating air pollution on indian territory during the lock-down. nitrogen dioxide decreases in reputed states of india, i.e. delhi and mumbai. an upsurge in the environmental quality of india will also be beneficial for its neighbor countries.\n",
            "\n",
            "Length of Summary = 41\n",
            "\n",
            "SUMMARIZATION AFTER EXTRACTIVE USING T5 - covid-19 is effective for mitigating air pollution on indian territory during lock-down. a significant decline in nitrogen dioxide in reputed states of india. the sentinel e 5 p satellite images elucidate that the air quality of indian territory has been improved significantly during covid-19. an upsurge in the environmental quality of india will also be beneficial for its neighbor countries, i.e. china, pakistan, iran and afghanistan.\n",
            "\n",
            "Length of Summary = 66\n"
          ]
        }
      ]
    }
  ]
}