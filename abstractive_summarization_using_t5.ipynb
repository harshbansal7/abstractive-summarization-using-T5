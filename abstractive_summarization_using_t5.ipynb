{
  "metadata": {
    "kernelspec": {
      "language": "python",
      "display_name": "Python 3",
      "name": "python3"
    },
    "language_info": {
      "name": "python",
      "version": "3.7.12",
      "mimetype": "text/x-python",
      "codemirror_mode": {
        "name": "ipython",
        "version": 3
      },
      "pygments_lexer": "ipython3",
      "nbconvert_exporter": "python",
      "file_extension": ".py"
    },
    "colab": {
      "provenance": [],
      "include_colab_link": true
    },
    "accelerator": "GPU",
    "gpuClass": "standard"
  },
  "nbformat_minor": 0,
  "nbformat": 4,
  "cells": [
    {
      "cell_type": "markdown",
      "metadata": {
        "id": "view-in-github",
        "colab_type": "text"
      },
      "source": [
        "<a href=\"https://colab.research.google.com/github/harshbansal7/abstractive-summarization-using-T5/blob/master/abstractive_summarization_using_t5.ipynb\" target=\"_parent\"><img src=\"https://colab.research.google.com/assets/colab-badge.svg\" alt=\"Open In Colab\"/></a>"
      ]
    },
    {
      "cell_type": "code",
      "source": [
        "from google.colab import drive\n",
        "drive.mount('/content/drive')"
      ],
      "metadata": {
        "colab": {
          "base_uri": "https://localhost:8080/"
        },
        "id": "Jb4rNLO6CPO6",
        "outputId": "b5540f74-e9ac-4f22-9ac3-5975bbd895d2"
      },
      "execution_count": 1,
      "outputs": [
        {
          "output_type": "stream",
          "name": "stdout",
          "text": [
            "Drive already mounted at /content/drive; to attempt to forcibly remount, call drive.mount(\"/content/drive\", force_remount=True).\n"
          ]
        }
      ]
    },
    {
      "cell_type": "code",
      "source": [
        "import pandas as pd\n",
        "import nltk\n",
        "nltk.download('punkt')\n",
        "from nltk.tokenize import sent_tokenize\n",
        "from sklearn.model_selection import train_test_split\n",
        "\n",
        "# Load the data into a DataFrame\n",
        "df = pd.read_csv(\"/content/drive/MyDrive/abstractive-summarization-data/datasets/train.csv\")\n",
        "df_val = pd.read_csv(\"/content/drive/MyDrive/abstractive-summarization-data/datasets/val.csv\")\n"
      ],
      "metadata": {
        "_uuid": "8f2839f25d086af736a60e9eeb907d3b93b6e0e5",
        "_cell_guid": "b1076dfc-b9ad-4769-8c92-a6c4dae69d19",
        "execution": {
          "iopub.status.busy": "2023-01-21T12:38:23.434808Z",
          "iopub.execute_input": "2023-01-21T12:38:23.435260Z",
          "iopub.status.idle": "2023-01-21T12:38:24.718527Z",
          "shell.execute_reply.started": "2023-01-21T12:38:23.435177Z",
          "shell.execute_reply": "2023-01-21T12:38:24.717527Z"
        },
        "trusted": true,
        "colab": {
          "base_uri": "https://localhost:8080/"
        },
        "id": "7OQnjsdJ7beC",
        "outputId": "6b9a4dff-baf4-4141-ecc8-cd5392a4ff94"
      },
      "execution_count": 2,
      "outputs": [
        {
          "output_type": "stream",
          "name": "stderr",
          "text": [
            "[nltk_data] Downloading package punkt to /root/nltk_data...\n",
            "[nltk_data]   Package punkt is already up-to-date!\n"
          ]
        }
      ]
    },
    {
      "cell_type": "code",
      "source": [
        "# Tokenize the text into sentences\n",
        "df['Abstract'] = df['Abstract'].apply(sent_tokenize)\n",
        "df['RHS'] = df['RHS'].apply(sent_tokenize)\n",
        "\n",
        "df_val['Abstract'] = df_val['Abstract'].apply(sent_tokenize)\n",
        "df_val['RHS'] = df_val['RHS'].apply(sent_tokenize)\n",
        "\n",
        "# Convert tokenized sentences into a single string\n",
        "df['Abstract'] = df['Abstract'].apply(lambda x: ' '.join(x))\n",
        "df['RHS'] = df['RHS'].apply(lambda x: ' '.join(x))\n",
        "\n",
        "df_val['Abstract'] = df_val['Abstract'].apply(lambda x: ' '.join(x))\n",
        "df_val['RHS'] = df_val['RHS'].apply(lambda x: ' '.join(x))\n"
      ],
      "metadata": {
        "execution": {
          "iopub.status.busy": "2023-01-21T12:38:24.746930Z",
          "iopub.execute_input": "2023-01-21T12:38:24.747266Z",
          "iopub.status.idle": "2023-01-21T12:38:25.339743Z",
          "shell.execute_reply.started": "2023-01-21T12:38:24.747233Z",
          "shell.execute_reply": "2023-01-21T12:38:25.338808Z"
        },
        "trusted": true,
        "id": "ADWDBy8n7beL"
      },
      "execution_count": 3,
      "outputs": []
    },
    {
      "cell_type": "code",
      "source": [
        "df = df.drop(columns='FileName')\n",
        "df = df.rename(columns={\"Abstract\":\"source_text\", \"RHS\":\"target_text\"})\n",
        "df = df[['source_text', 'target_text']]\n",
        "\n",
        "df['source_text'] = df['source_text'].str.lower()\n",
        "df['target_text'] = df['target_text'].str.lower()\n",
        "\n",
        "df['source_text'] = \"summarize: \" + df['source_text']\n",
        "df\n",
        "\n",
        "df_val = df_val.drop(columns='FileName')\n",
        "df_val = df_val.rename(columns={\"Abstract\":\"source_text\", \"RHS\":\"target_text\"})\n",
        "df_val = df_val[['source_text', 'target_text']]\n",
        "\n",
        "df_val['source_text'] = df_val['source_text'].str.lower()\n",
        "df_val['target_text'] = df_val['target_text'].str.lower()\n",
        "\n",
        "df_val['source_text'] = \"summarize: \" + df_val['source_text']\n",
        "df_val"
      ],
      "metadata": {
        "execution": {
          "iopub.status.busy": "2023-01-21T12:38:25.342466Z",
          "iopub.execute_input": "2023-01-21T12:38:25.342901Z",
          "iopub.status.idle": "2023-01-21T12:38:25.375703Z",
          "shell.execute_reply.started": "2023-01-21T12:38:25.342864Z",
          "shell.execute_reply": "2023-01-21T12:38:25.374698Z"
        },
        "trusted": true,
        "id": "P3nxTYS07beM",
        "outputId": "16c02e9e-6b55-4dbb-ddeb-de2d4496d1f6",
        "colab": {
          "base_uri": "https://localhost:8080/",
          "height": 423
        }
      },
      "execution_count": 4,
      "outputs": [
        {
          "output_type": "execute_result",
          "data": {
            "text/plain": [
              "                                          source_text  \\\n",
              "0   summarize:  human face can be seen as a soft t...   \n",
              "1   summarize:  in this paper we use a numerical p...   \n",
              "2   summarize:  modularisation product platforms p...   \n",
              "3   summarize:  in order to investigate the micros...   \n",
              "4   summarize:  an efficient approach is proposed ...   \n",
              "..                                                ...   \n",
              "95  summarize:  this paper proposes a strategy for...   \n",
              "96  summarize:  a family of spatial beam finite el...   \n",
              "97  summarize:  a new adaptive multiscale method i...   \n",
              "98  summarize:  a nonlocal extension of the damage...   \n",
              "99  summarize:  this paper describes the developme...   \n",
              "\n",
              "                                          target_text  \n",
              "0   we model the deformation of the human face due...  \n",
              "1   bifurcation and postbifurcation of inflated hy...  \n",
              "2   existing methods in modular product family dev...  \n",
              "3   a drx model of fgh96 of ifw process is establi...  \n",
              "4   propose a pragmatic approach for simulating co...  \n",
              "..                                                ...  \n",
              "95  efficient strategy for gpu computing of fgfea ...  \n",
              "96  we analyse fixed pole approach in geometricall...  \n",
              "97  a new adaptive multiscale method amm is develo...  \n",
              "98  a new nonlocal damage plasticity model has bee...  \n",
              "99  a finite element model of bolt is proposed to ...  \n",
              "\n",
              "[100 rows x 2 columns]"
            ],
            "text/html": [
              "\n",
              "  <div id=\"df-01a035ed-855d-46b2-8cb3-ea318bb4346a\">\n",
              "    <div class=\"colab-df-container\">\n",
              "      <div>\n",
              "<style scoped>\n",
              "    .dataframe tbody tr th:only-of-type {\n",
              "        vertical-align: middle;\n",
              "    }\n",
              "\n",
              "    .dataframe tbody tr th {\n",
              "        vertical-align: top;\n",
              "    }\n",
              "\n",
              "    .dataframe thead th {\n",
              "        text-align: right;\n",
              "    }\n",
              "</style>\n",
              "<table border=\"1\" class=\"dataframe\">\n",
              "  <thead>\n",
              "    <tr style=\"text-align: right;\">\n",
              "      <th></th>\n",
              "      <th>source_text</th>\n",
              "      <th>target_text</th>\n",
              "    </tr>\n",
              "  </thead>\n",
              "  <tbody>\n",
              "    <tr>\n",
              "      <th>0</th>\n",
              "      <td>summarize:  human face can be seen as a soft t...</td>\n",
              "      <td>we model the deformation of the human face due...</td>\n",
              "    </tr>\n",
              "    <tr>\n",
              "      <th>1</th>\n",
              "      <td>summarize:  in this paper we use a numerical p...</td>\n",
              "      <td>bifurcation and postbifurcation of inflated hy...</td>\n",
              "    </tr>\n",
              "    <tr>\n",
              "      <th>2</th>\n",
              "      <td>summarize:  modularisation product platforms p...</td>\n",
              "      <td>existing methods in modular product family dev...</td>\n",
              "    </tr>\n",
              "    <tr>\n",
              "      <th>3</th>\n",
              "      <td>summarize:  in order to investigate the micros...</td>\n",
              "      <td>a drx model of fgh96 of ifw process is establi...</td>\n",
              "    </tr>\n",
              "    <tr>\n",
              "      <th>4</th>\n",
              "      <td>summarize:  an efficient approach is proposed ...</td>\n",
              "      <td>propose a pragmatic approach for simulating co...</td>\n",
              "    </tr>\n",
              "    <tr>\n",
              "      <th>...</th>\n",
              "      <td>...</td>\n",
              "      <td>...</td>\n",
              "    </tr>\n",
              "    <tr>\n",
              "      <th>95</th>\n",
              "      <td>summarize:  this paper proposes a strategy for...</td>\n",
              "      <td>efficient strategy for gpu computing of fgfea ...</td>\n",
              "    </tr>\n",
              "    <tr>\n",
              "      <th>96</th>\n",
              "      <td>summarize:  a family of spatial beam finite el...</td>\n",
              "      <td>we analyse fixed pole approach in geometricall...</td>\n",
              "    </tr>\n",
              "    <tr>\n",
              "      <th>97</th>\n",
              "      <td>summarize:  a new adaptive multiscale method i...</td>\n",
              "      <td>a new adaptive multiscale method amm is develo...</td>\n",
              "    </tr>\n",
              "    <tr>\n",
              "      <th>98</th>\n",
              "      <td>summarize:  a nonlocal extension of the damage...</td>\n",
              "      <td>a new nonlocal damage plasticity model has bee...</td>\n",
              "    </tr>\n",
              "    <tr>\n",
              "      <th>99</th>\n",
              "      <td>summarize:  this paper describes the developme...</td>\n",
              "      <td>a finite element model of bolt is proposed to ...</td>\n",
              "    </tr>\n",
              "  </tbody>\n",
              "</table>\n",
              "<p>100 rows × 2 columns</p>\n",
              "</div>\n",
              "      <button class=\"colab-df-convert\" onclick=\"convertToInteractive('df-01a035ed-855d-46b2-8cb3-ea318bb4346a')\"\n",
              "              title=\"Convert this dataframe to an interactive table.\"\n",
              "              style=\"display:none;\">\n",
              "        \n",
              "  <svg xmlns=\"http://www.w3.org/2000/svg\" height=\"24px\"viewBox=\"0 0 24 24\"\n",
              "       width=\"24px\">\n",
              "    <path d=\"M0 0h24v24H0V0z\" fill=\"none\"/>\n",
              "    <path d=\"M18.56 5.44l.94 2.06.94-2.06 2.06-.94-2.06-.94-.94-2.06-.94 2.06-2.06.94zm-11 1L8.5 8.5l.94-2.06 2.06-.94-2.06-.94L8.5 2.5l-.94 2.06-2.06.94zm10 10l.94 2.06.94-2.06 2.06-.94-2.06-.94-.94-2.06-.94 2.06-2.06.94z\"/><path d=\"M17.41 7.96l-1.37-1.37c-.4-.4-.92-.59-1.43-.59-.52 0-1.04.2-1.43.59L10.3 9.45l-7.72 7.72c-.78.78-.78 2.05 0 2.83L4 21.41c.39.39.9.59 1.41.59.51 0 1.02-.2 1.41-.59l7.78-7.78 2.81-2.81c.8-.78.8-2.07 0-2.86zM5.41 20L4 18.59l7.72-7.72 1.47 1.35L5.41 20z\"/>\n",
              "  </svg>\n",
              "      </button>\n",
              "      \n",
              "  <style>\n",
              "    .colab-df-container {\n",
              "      display:flex;\n",
              "      flex-wrap:wrap;\n",
              "      gap: 12px;\n",
              "    }\n",
              "\n",
              "    .colab-df-convert {\n",
              "      background-color: #E8F0FE;\n",
              "      border: none;\n",
              "      border-radius: 50%;\n",
              "      cursor: pointer;\n",
              "      display: none;\n",
              "      fill: #1967D2;\n",
              "      height: 32px;\n",
              "      padding: 0 0 0 0;\n",
              "      width: 32px;\n",
              "    }\n",
              "\n",
              "    .colab-df-convert:hover {\n",
              "      background-color: #E2EBFA;\n",
              "      box-shadow: 0px 1px 2px rgba(60, 64, 67, 0.3), 0px 1px 3px 1px rgba(60, 64, 67, 0.15);\n",
              "      fill: #174EA6;\n",
              "    }\n",
              "\n",
              "    [theme=dark] .colab-df-convert {\n",
              "      background-color: #3B4455;\n",
              "      fill: #D2E3FC;\n",
              "    }\n",
              "\n",
              "    [theme=dark] .colab-df-convert:hover {\n",
              "      background-color: #434B5C;\n",
              "      box-shadow: 0px 1px 3px 1px rgba(0, 0, 0, 0.15);\n",
              "      filter: drop-shadow(0px 1px 2px rgba(0, 0, 0, 0.3));\n",
              "      fill: #FFFFFF;\n",
              "    }\n",
              "  </style>\n",
              "\n",
              "      <script>\n",
              "        const buttonEl =\n",
              "          document.querySelector('#df-01a035ed-855d-46b2-8cb3-ea318bb4346a button.colab-df-convert');\n",
              "        buttonEl.style.display =\n",
              "          google.colab.kernel.accessAllowed ? 'block' : 'none';\n",
              "\n",
              "        async function convertToInteractive(key) {\n",
              "          const element = document.querySelector('#df-01a035ed-855d-46b2-8cb3-ea318bb4346a');\n",
              "          const dataTable =\n",
              "            await google.colab.kernel.invokeFunction('convertToInteractive',\n",
              "                                                     [key], {});\n",
              "          if (!dataTable) return;\n",
              "\n",
              "          const docLinkHtml = 'Like what you see? Visit the ' +\n",
              "            '<a target=\"_blank\" href=https://colab.research.google.com/notebooks/data_table.ipynb>data table notebook</a>'\n",
              "            + ' to learn more about interactive tables.';\n",
              "          element.innerHTML = '';\n",
              "          dataTable['output_type'] = 'display_data';\n",
              "          await google.colab.output.renderOutput(dataTable, element);\n",
              "          const docLink = document.createElement('div');\n",
              "          docLink.innerHTML = docLinkHtml;\n",
              "          element.appendChild(docLink);\n",
              "        }\n",
              "      </script>\n",
              "    </div>\n",
              "  </div>\n",
              "  "
            ]
          },
          "metadata": {},
          "execution_count": 4
        }
      ]
    },
    {
      "cell_type": "code",
      "source": [
        "%%capture\n",
        "!pip install --upgrade simplet5"
      ],
      "metadata": {
        "execution": {
          "iopub.status.busy": "2023-01-21T12:38:25.377086Z",
          "iopub.execute_input": "2023-01-21T12:38:25.378048Z",
          "iopub.status.idle": "2023-01-21T12:38:59.455568Z",
          "shell.execute_reply.started": "2023-01-21T12:38:25.378012Z",
          "shell.execute_reply": "2023-01-21T12:38:59.454440Z"
        },
        "trusted": true,
        "id": "7EgYrmMJ7beN"
      },
      "execution_count": 5,
      "outputs": []
    },
    {
      "cell_type": "code",
      "source": [
        "# import\n",
        "from simplet5 import SimpleT5\n",
        "\n",
        "# instantiate\n",
        "model = SimpleT5()\n",
        "\n",
        "# load (supports t5, mt5, byT5 models)\n",
        "model.from_pretrained(\"t5\",\"t5-base\")\n"
      ],
      "metadata": {
        "execution": {
          "iopub.status.busy": "2023-01-21T12:38:59.457365Z",
          "iopub.execute_input": "2023-01-21T12:38:59.458095Z",
          "iopub.status.idle": "2023-01-21T12:39:14.528255Z",
          "shell.execute_reply.started": "2023-01-21T12:38:59.458055Z",
          "shell.execute_reply": "2023-01-21T12:39:14.527161Z"
        },
        "trusted": true,
        "colab": {
          "base_uri": "https://localhost:8080/"
        },
        "id": "jDO1RkYk7beO",
        "outputId": "90d96c71-8d13-4a53-b132-62f51e1029e8"
      },
      "execution_count": 6,
      "outputs": [
        {
          "output_type": "stream",
          "name": "stderr",
          "text": [
            "INFO:pytorch_lightning.utilities.seed:Global seed set to 42\n"
          ]
        }
      ]
    },
    {
      "cell_type": "code",
      "source": [
        "# model.train(train_df=df, # pandas dataframe with 2 columns: source_text & target_text\n",
        "#             eval_df=df_val, # pandas dataframe with 2 columns: source_text & target_text\n",
        "#             source_max_token_len = 512, \n",
        "#             target_max_token_len = 128,\n",
        "#             batch_size = 8,\n",
        "#             max_epochs = 10,\n",
        "#             use_gpu = True,\n",
        "#             outputdir = \"/content\",\n",
        "#             early_stopping_patience_epochs = 0,\n",
        "#             precision = 32\n",
        "# )"
      ],
      "metadata": {
        "execution": {
          "iopub.status.busy": "2023-01-21T12:39:14.529713Z",
          "iopub.execute_input": "2023-01-21T12:39:14.530454Z",
          "iopub.status.idle": "2023-01-21T12:53:18.230822Z",
          "shell.execute_reply.started": "2023-01-21T12:39:14.530415Z",
          "shell.execute_reply": "2023-01-21T12:53:18.229763Z"
        },
        "trusted": true,
        "id": "VEaxnGs57beP"
      },
      "execution_count": 7,
      "outputs": []
    },
    {
      "cell_type": "code",
      "source": [
        "# import shutil\n",
        "# shutil.make_archive('model-archive', 'zip', '/content/simplet5-epoch-9-train-loss-1.3233-val-loss-2.5556')"
      ],
      "metadata": {
        "id": "1il3xBlhhMTU"
      },
      "execution_count": 8,
      "outputs": []
    },
    {
      "cell_type": "code",
      "source": [
        "model.load_model(\"t5\",\"/content/drive/MyDrive/abstractive-summarization-data/simplet5-epoch-9-train-loss-1.3233-val-loss-2.5556\", use_gpu=True)"
      ],
      "metadata": {
        "execution": {
          "iopub.status.busy": "2023-01-21T12:53:53.360566Z",
          "iopub.execute_input": "2023-01-21T12:53:53.360921Z",
          "iopub.status.idle": "2023-01-21T12:53:54.526893Z",
          "shell.execute_reply.started": "2023-01-21T12:53:53.360891Z",
          "shell.execute_reply": "2023-01-21T12:53:54.525559Z"
        },
        "trusted": true,
        "id": "T8KwnK0i7beQ"
      },
      "execution_count": 9,
      "outputs": []
    },
    {
      "cell_type": "code",
      "source": [
        "%%capture\n",
        "!pip install pytextrank\n",
        "!python -m spacy download en_core_web_sm\n",
        "!pip install --upgrade scipy networkx"
      ],
      "metadata": {
        "_kg_hide-output": false,
        "execution": {
          "iopub.status.idle": "2023-01-21T12:54:32.642652Z",
          "shell.execute_reply.started": "2023-01-21T12:53:56.168517Z",
          "shell.execute_reply": "2023-01-21T12:54:32.641478Z"
        },
        "trusted": true,
        "id": "E-azzzMe7beQ"
      },
      "execution_count": 10,
      "outputs": []
    },
    {
      "cell_type": "code",
      "source": [
        "import spacy\n",
        "import pytextrank\n",
        "\n",
        "def extract_important_sentences(text, limit_phrases=15, limit_sentences=5):\n",
        "    en_nlp = spacy.load(\"en_core_web_sm\")\n",
        "    en_nlp.add_pipe(\"textrank\", last=True)\n",
        "    doc = en_nlp(text)\n",
        "    tr = doc._.textrank\n",
        "    summary = \"\"\n",
        "    for sent in tr.summary(limit_phrases=limit_phrases, limit_sentences=limit_sentences):\n",
        "        summary += sent.text + \" \"\n",
        "    return summary"
      ],
      "metadata": {
        "execution": {
          "iopub.status.busy": "2023-01-21T13:05:02.254650Z",
          "iopub.execute_input": "2023-01-21T13:05:02.255053Z",
          "iopub.status.idle": "2023-01-21T13:05:02.262452Z",
          "shell.execute_reply.started": "2023-01-21T13:05:02.255019Z",
          "shell.execute_reply": "2023-01-21T13:05:02.261113Z"
        },
        "trusted": true,
        "id": "FpeCXN6d7beR"
      },
      "execution_count": 11,
      "outputs": []
    },
    {
      "cell_type": "code",
      "source": [
        "def create_summaries(text):\n",
        "\n",
        "    print(\"ACTUAL ABSTRACT - \" + text)\n",
        "    print(\"\\nLength of Abstract = \" + str(len(text.split())))\n",
        "    sumtext = \"summarize: \" + text.lower()\n",
        "    actual_text_prediction = model.predict(sumtext)[0]\n",
        "    print(\"\\nDIRECT SUMMARIZATION USING T5 - \" + actual_text_prediction)\n",
        "    print(\"\\nLength of Summary = \" + str(len(actual_text_prediction.split())))\n",
        "\n",
        "    newtext = extract_important_sentences(text, 20, 6)\n",
        "    newtext = \"summarize: \" + newtext.lower()\n",
        "    extractive_text_prediction = model.predict(newtext)[0]\n",
        "    print(\"\\nSUMMARIZATION AFTER EXTRACTIVE USING T5 - \" + extractive_text_prediction)\n",
        "    print(\"\\nLength of Summary = \" + str(len(extractive_text_prediction.split())))"
      ],
      "metadata": {
        "id": "wcIQOHTVDo-C"
      },
      "execution_count": 12,
      "outputs": []
    },
    {
      "cell_type": "code",
      "source": [
        "text = \"\"\"Since their early discovery, thin films have quickly found industrial uses, including in ornamental and optical applications. The range of applications for thin film technology has expanded to the point where nearly every industrial sector now uses it to impart specific physical and chemical properties to the surface of bulk materials. This expansion has been aided by the development of vacuum technology and electric power facilities. Recently, the most technologically sophisticated applications, such microelectronics and biomedicine, have been made possible by the ability to adjust the film properties by the change of the microstructure via the deposition parameters used in a particular deposition procedure. Despite such remarkable advancements, the relationship between all phases of the manufacture of thin films, specifically deposition parameters-morphology and characteristics, is not entirely precise. The development of complex models for an accurate prediction of film properties has been hampered, among other things, by the lack of characterization techniques suited for probing films with thickness less than a single atomic layer and a lack of knowledge of the physics. Additionally, there are still certain challenges with the mass production of advanced structures, such as quantum wells and wires, as well as a relatively high cost for their deposition. Thin film technology will be more competitive for cutting-edge technological applications once these obstacles are removed.\"\"\""
      ],
      "metadata": {
        "execution": {
          "iopub.status.busy": "2023-01-21T13:26:54.838972Z",
          "iopub.execute_input": "2023-01-21T13:26:54.839364Z",
          "iopub.status.idle": "2023-01-21T13:26:54.845014Z",
          "shell.execute_reply.started": "2023-01-21T13:26:54.839332Z",
          "shell.execute_reply": "2023-01-21T13:26:54.843921Z"
        },
        "trusted": true,
        "id": "UeSY5X5f7beR"
      },
      "execution_count": 13,
      "outputs": []
    },
    {
      "cell_type": "code",
      "source": [
        "create_summaries(text)"
      ],
      "metadata": {
        "execution": {
          "iopub.status.busy": "2023-01-21T13:26:56.318085Z",
          "iopub.execute_input": "2023-01-21T13:26:56.318833Z",
          "iopub.status.idle": "2023-01-21T13:26:56.991525Z",
          "shell.execute_reply.started": "2023-01-21T13:26:56.318787Z",
          "shell.execute_reply": "2023-01-21T13:26:56.989803Z"
        },
        "trusted": true,
        "id": "w_Gjt1iq7beR",
        "outputId": "dde456fc-fa49-4cda-ead0-00cf03452ab3",
        "colab": {
          "base_uri": "https://localhost:8080/"
        }
      },
      "execution_count": 14,
      "outputs": [
        {
          "output_type": "stream",
          "name": "stdout",
          "text": [
            "ACTUAL ABSTRACT - Since their early discovery, thin films have quickly found industrial uses, including in ornamental and optical applications. The range of applications for thin film technology has expanded to the point where nearly every industrial sector now uses it to impart specific physical and chemical properties to the surface of bulk materials. This expansion has been aided by the development of vacuum technology and electric power facilities. Recently, the most technologically sophisticated applications, such microelectronics and biomedicine, have been made possible by the ability to adjust the film properties by the change of the microstructure via the deposition parameters used in a particular deposition procedure. Despite such remarkable advancements, the relationship between all phases of the manufacture of thin films, specifically deposition parameters-morphology and characteristics, is not entirely precise. The development of complex models for an accurate prediction of film properties has been hampered, among other things, by the lack of characterization techniques suited for probing films with thickness less than a single atomic layer and a lack of knowledge of the physics. Additionally, there are still certain challenges with the mass production of advanced structures, such as quantum wells and wires, as well as a relatively high cost for their deposition. Thin film technology will be more competitive for cutting-edge technological applications once these obstacles are removed.\n",
            "\n",
            "Length of Abstract = 217\n",
            "\n",
            "DIRECT SUMMARIZATION USING T5 - the relationship between all phases of the manufacture of thin films is not entirely precise. lack of characterization techniques suited for probing films with thickness less than a single atomic layer and a lack of knowledge of the physics hampers development of complex models for film properties. there are still certain challenges with the mass production of advanced structures, such as quantum wells and wires, as well as a relatively high cost for their deposition.\n",
            "\n",
            "Length of Summary = 75\n",
            "\n",
            "SUMMARIZATION AFTER EXTRACTIVE USING T5 - the relationship between all phases of the manufacture of thin films is not entirely precise. characterization techniques are inadequate for accurately predicting film properties. microelectronics and biomedicine use thin films to impart physical properties. once these limitations are removed, thin film technology will be competitive for cutting-edge applications.\n",
            "\n",
            "Length of Summary = 48\n"
          ]
        }
      ]
    },
    {
      "cell_type": "code",
      "source": [
        "# Create an empty dataframe\n",
        "pred_df = pd.DataFrame(columns=[\"target_text\", \"predicted_text\"])\n",
        "\n",
        "# Iterate over the validation dataset\n",
        "for i, row in df_val.iterrows():\n",
        "    # Make a prediction for the current row\n",
        "    pred_text = model.predict(row[\"source_text\"])\n",
        "    # Add the prediction and the target text to the new dataframe\n",
        "    pred_df.loc[i] = [row[\"target_text\"], pred_text[0]]\n",
        "    \n",
        "pred_df"
      ],
      "metadata": {
        "execution": {
          "iopub.status.busy": "2023-01-21T13:38:56.150598Z",
          "iopub.execute_input": "2023-01-21T13:38:56.150948Z",
          "iopub.status.idle": "2023-01-21T13:40:28.511595Z",
          "shell.execute_reply.started": "2023-01-21T13:38:56.150912Z",
          "shell.execute_reply": "2023-01-21T13:40:28.510580Z"
        },
        "trusted": true,
        "id": "fX-M0O0C7beU",
        "colab": {
          "base_uri": "https://localhost:8080/",
          "height": 461
        },
        "outputId": "63839d64-71cd-488a-d160-056cc5aa4219"
      },
      "execution_count": 15,
      "outputs": [
        {
          "output_type": "stream",
          "name": "stderr",
          "text": [
            "Token indices sequence length is longer than the specified maximum sequence length for this model (571 > 512). Running this sequence through the model will result in indexing errors\n"
          ]
        },
        {
          "output_type": "execute_result",
          "data": {
            "text/plain": [
              "                                          target_text  \\\n",
              "0   we model the deformation of the human face due...   \n",
              "1   bifurcation and postbifurcation of inflated hy...   \n",
              "2   existing methods in modular product family dev...   \n",
              "3   a drx model of fgh96 of ifw process is establi...   \n",
              "4   propose a pragmatic approach for simulating co...   \n",
              "..                                                ...   \n",
              "95  efficient strategy for gpu computing of fgfea ...   \n",
              "96  we analyse fixed pole approach in geometricall...   \n",
              "97  a new adaptive multiscale method amm is develo...   \n",
              "98  a new nonlocal damage plasticity model has bee...   \n",
              "99  a finite element model of bolt is proposed to ...   \n",
              "\n",
              "                                       predicted_text  \n",
              "0   a new approach to evaluate muscle contribution...  \n",
              "1   we analyse bifurcation and postbifurcation of ...  \n",
              "2   we propose a design method for modular product...  \n",
              "3   the microstructure evolution of inertia fricti...  \n",
              "4   a method for automating the mechanical meshing...  \n",
              "..                                                ...  \n",
              "95  we propose a matrix free implementation of fix...  \n",
              "96  a family of spatial beam finite elements is de...  \n",
              "97  a new multiscale adaptive multiscale method is...  \n",
              "98  a nonlocal extension of the damage plasticity ...  \n",
              "99  a reduced model of a fastener using multi conn...  \n",
              "\n",
              "[100 rows x 2 columns]"
            ],
            "text/html": [
              "\n",
              "  <div id=\"df-d978d8d0-5e14-4f21-967a-f3683c851593\">\n",
              "    <div class=\"colab-df-container\">\n",
              "      <div>\n",
              "<style scoped>\n",
              "    .dataframe tbody tr th:only-of-type {\n",
              "        vertical-align: middle;\n",
              "    }\n",
              "\n",
              "    .dataframe tbody tr th {\n",
              "        vertical-align: top;\n",
              "    }\n",
              "\n",
              "    .dataframe thead th {\n",
              "        text-align: right;\n",
              "    }\n",
              "</style>\n",
              "<table border=\"1\" class=\"dataframe\">\n",
              "  <thead>\n",
              "    <tr style=\"text-align: right;\">\n",
              "      <th></th>\n",
              "      <th>target_text</th>\n",
              "      <th>predicted_text</th>\n",
              "    </tr>\n",
              "  </thead>\n",
              "  <tbody>\n",
              "    <tr>\n",
              "      <th>0</th>\n",
              "      <td>we model the deformation of the human face due...</td>\n",
              "      <td>a new approach to evaluate muscle contribution...</td>\n",
              "    </tr>\n",
              "    <tr>\n",
              "      <th>1</th>\n",
              "      <td>bifurcation and postbifurcation of inflated hy...</td>\n",
              "      <td>we analyse bifurcation and postbifurcation of ...</td>\n",
              "    </tr>\n",
              "    <tr>\n",
              "      <th>2</th>\n",
              "      <td>existing methods in modular product family dev...</td>\n",
              "      <td>we propose a design method for modular product...</td>\n",
              "    </tr>\n",
              "    <tr>\n",
              "      <th>3</th>\n",
              "      <td>a drx model of fgh96 of ifw process is establi...</td>\n",
              "      <td>the microstructure evolution of inertia fricti...</td>\n",
              "    </tr>\n",
              "    <tr>\n",
              "      <th>4</th>\n",
              "      <td>propose a pragmatic approach for simulating co...</td>\n",
              "      <td>a method for automating the mechanical meshing...</td>\n",
              "    </tr>\n",
              "    <tr>\n",
              "      <th>...</th>\n",
              "      <td>...</td>\n",
              "      <td>...</td>\n",
              "    </tr>\n",
              "    <tr>\n",
              "      <th>95</th>\n",
              "      <td>efficient strategy for gpu computing of fgfea ...</td>\n",
              "      <td>we propose a matrix free implementation of fix...</td>\n",
              "    </tr>\n",
              "    <tr>\n",
              "      <th>96</th>\n",
              "      <td>we analyse fixed pole approach in geometricall...</td>\n",
              "      <td>a family of spatial beam finite elements is de...</td>\n",
              "    </tr>\n",
              "    <tr>\n",
              "      <th>97</th>\n",
              "      <td>a new adaptive multiscale method amm is develo...</td>\n",
              "      <td>a new multiscale adaptive multiscale method is...</td>\n",
              "    </tr>\n",
              "    <tr>\n",
              "      <th>98</th>\n",
              "      <td>a new nonlocal damage plasticity model has bee...</td>\n",
              "      <td>a nonlocal extension of the damage plasticity ...</td>\n",
              "    </tr>\n",
              "    <tr>\n",
              "      <th>99</th>\n",
              "      <td>a finite element model of bolt is proposed to ...</td>\n",
              "      <td>a reduced model of a fastener using multi conn...</td>\n",
              "    </tr>\n",
              "  </tbody>\n",
              "</table>\n",
              "<p>100 rows × 2 columns</p>\n",
              "</div>\n",
              "      <button class=\"colab-df-convert\" onclick=\"convertToInteractive('df-d978d8d0-5e14-4f21-967a-f3683c851593')\"\n",
              "              title=\"Convert this dataframe to an interactive table.\"\n",
              "              style=\"display:none;\">\n",
              "        \n",
              "  <svg xmlns=\"http://www.w3.org/2000/svg\" height=\"24px\"viewBox=\"0 0 24 24\"\n",
              "       width=\"24px\">\n",
              "    <path d=\"M0 0h24v24H0V0z\" fill=\"none\"/>\n",
              "    <path d=\"M18.56 5.44l.94 2.06.94-2.06 2.06-.94-2.06-.94-.94-2.06-.94 2.06-2.06.94zm-11 1L8.5 8.5l.94-2.06 2.06-.94-2.06-.94L8.5 2.5l-.94 2.06-2.06.94zm10 10l.94 2.06.94-2.06 2.06-.94-2.06-.94-.94-2.06-.94 2.06-2.06.94z\"/><path d=\"M17.41 7.96l-1.37-1.37c-.4-.4-.92-.59-1.43-.59-.52 0-1.04.2-1.43.59L10.3 9.45l-7.72 7.72c-.78.78-.78 2.05 0 2.83L4 21.41c.39.39.9.59 1.41.59.51 0 1.02-.2 1.41-.59l7.78-7.78 2.81-2.81c.8-.78.8-2.07 0-2.86zM5.41 20L4 18.59l7.72-7.72 1.47 1.35L5.41 20z\"/>\n",
              "  </svg>\n",
              "      </button>\n",
              "      \n",
              "  <style>\n",
              "    .colab-df-container {\n",
              "      display:flex;\n",
              "      flex-wrap:wrap;\n",
              "      gap: 12px;\n",
              "    }\n",
              "\n",
              "    .colab-df-convert {\n",
              "      background-color: #E8F0FE;\n",
              "      border: none;\n",
              "      border-radius: 50%;\n",
              "      cursor: pointer;\n",
              "      display: none;\n",
              "      fill: #1967D2;\n",
              "      height: 32px;\n",
              "      padding: 0 0 0 0;\n",
              "      width: 32px;\n",
              "    }\n",
              "\n",
              "    .colab-df-convert:hover {\n",
              "      background-color: #E2EBFA;\n",
              "      box-shadow: 0px 1px 2px rgba(60, 64, 67, 0.3), 0px 1px 3px 1px rgba(60, 64, 67, 0.15);\n",
              "      fill: #174EA6;\n",
              "    }\n",
              "\n",
              "    [theme=dark] .colab-df-convert {\n",
              "      background-color: #3B4455;\n",
              "      fill: #D2E3FC;\n",
              "    }\n",
              "\n",
              "    [theme=dark] .colab-df-convert:hover {\n",
              "      background-color: #434B5C;\n",
              "      box-shadow: 0px 1px 3px 1px rgba(0, 0, 0, 0.15);\n",
              "      filter: drop-shadow(0px 1px 2px rgba(0, 0, 0, 0.3));\n",
              "      fill: #FFFFFF;\n",
              "    }\n",
              "  </style>\n",
              "\n",
              "      <script>\n",
              "        const buttonEl =\n",
              "          document.querySelector('#df-d978d8d0-5e14-4f21-967a-f3683c851593 button.colab-df-convert');\n",
              "        buttonEl.style.display =\n",
              "          google.colab.kernel.accessAllowed ? 'block' : 'none';\n",
              "\n",
              "        async function convertToInteractive(key) {\n",
              "          const element = document.querySelector('#df-d978d8d0-5e14-4f21-967a-f3683c851593');\n",
              "          const dataTable =\n",
              "            await google.colab.kernel.invokeFunction('convertToInteractive',\n",
              "                                                     [key], {});\n",
              "          if (!dataTable) return;\n",
              "\n",
              "          const docLinkHtml = 'Like what you see? Visit the ' +\n",
              "            '<a target=\"_blank\" href=https://colab.research.google.com/notebooks/data_table.ipynb>data table notebook</a>'\n",
              "            + ' to learn more about interactive tables.';\n",
              "          element.innerHTML = '';\n",
              "          dataTable['output_type'] = 'display_data';\n",
              "          await google.colab.output.renderOutput(dataTable, element);\n",
              "          const docLink = document.createElement('div');\n",
              "          docLink.innerHTML = docLinkHtml;\n",
              "          element.appendChild(docLink);\n",
              "        }\n",
              "      </script>\n",
              "    </div>\n",
              "  </div>\n",
              "  "
            ]
          },
          "metadata": {},
          "execution_count": 15
        }
      ]
    },
    {
      "cell_type": "code",
      "source": [
        "!pip install py-rouge"
      ],
      "metadata": {
        "colab": {
          "base_uri": "https://localhost:8080/"
        },
        "id": "gN5er3jxEWRQ",
        "outputId": "3fc78704-d360-4b66-d9d2-d7b93ebea767"
      },
      "execution_count": 16,
      "outputs": [
        {
          "output_type": "stream",
          "name": "stdout",
          "text": [
            "Looking in indexes: https://pypi.org/simple, https://us-python.pkg.dev/colab-wheels/public/simple/\n",
            "Requirement already satisfied: py-rouge in /usr/local/lib/python3.8/dist-packages (1.1)\n"
          ]
        }
      ]
    },
    {
      "cell_type": "code",
      "source": [
        "import rouge\n",
        "\n",
        "def prepare_results(p, r, f):\n",
        "    return '\\t{}:\\t{}: {:5.2f}\\t{}: {:5.2f}\\t{}: {:5.2f}'.format(metric, 'P', 100.0 * p, 'R', 100.0 * r, 'F1', 100.0 * f)\n",
        "\n",
        "\n",
        "for aggregator in ['Avg', 'Best']:\n",
        "    print('Evaluation with {}'.format(aggregator))\n",
        "    apply_avg = aggregator == 'Avg'\n",
        "    apply_best = aggregator == 'Best'\n",
        "\n",
        "    evaluator = rouge.Rouge(metrics=['rouge-n', 'rouge-l', 'rouge-w'],\n",
        "                           max_n=2,\n",
        "                           limit_length=True,\n",
        "                           length_limit=100,\n",
        "                           length_limit_type='words',\n",
        "                           apply_avg=apply_avg,\n",
        "                           apply_best=apply_best,\n",
        "                           alpha=0.5, # Default F1_score\n",
        "                           weight_factor=1.2,\n",
        "                           stemming=True)\n",
        "\n",
        "\n",
        "    all_hypothesis = pred_df['predicted_text']\n",
        "    all_references = pred_df['target_text']\n",
        "\n",
        "    scores = evaluator.get_scores(all_hypothesis, all_references)\n",
        "\n",
        "    for metric, results in sorted(scores.items(), key=lambda x: x[0]):\n",
        "        if not apply_avg and not apply_best: # value is a type of list as we evaluate each summary vs each reference\n",
        "            for hypothesis_id, results_per_ref in enumerate(results):\n",
        "                nb_references = len(results_per_ref['p'])\n",
        "                for reference_id in range(nb_references):\n",
        "                    print('\\tHypothesis #{} & Reference #{}: '.format(hypothesis_id, reference_id))\n",
        "                    print('\\t' + prepare_results(results_per_ref['p'][reference_id], results_per_ref['r'][reference_id], results_per_ref['f'][reference_id]))\n",
        "            print()\n",
        "        else:\n",
        "            print(prepare_results(results['p'], results['r'], results['f']))\n",
        "    print()"
      ],
      "metadata": {
        "colab": {
          "base_uri": "https://localhost:8080/"
        },
        "id": "FZEHqeADEaPe",
        "outputId": "f74e55f3-6395-428a-ee64-9520d611f170"
      },
      "execution_count": 17,
      "outputs": [
        {
          "output_type": "stream",
          "name": "stdout",
          "text": [
            "Evaluation with Avg\n",
            "\trouge-1:\tP: 45.07\tR: 48.09\tF1: 45.26\n",
            "\trouge-2:\tP: 19.74\tR: 21.77\tF1: 20.09\n",
            "\trouge-l:\tP: 38.13\tR: 40.18\tF1: 38.34\n",
            "\trouge-w:\tP: 24.33\tR: 11.88\tF1: 15.50\n",
            "\n",
            "Evaluation with Best\n",
            "\trouge-1:\tP: 45.07\tR: 48.09\tF1: 45.26\n",
            "\trouge-2:\tP: 19.74\tR: 21.77\tF1: 20.09\n",
            "\trouge-l:\tP: 38.13\tR: 40.18\tF1: 38.34\n",
            "\trouge-w:\tP: 24.33\tR: 11.88\tF1: 15.50\n",
            "\n"
          ]
        }
      ]
    },
    {
      "cell_type": "markdown",
      "source": [
        "**Few Examples**"
      ],
      "metadata": {
        "id": "r-ortkC3xVik"
      }
    },
    {
      "cell_type": "code",
      "source": [
        "create_summaries(\"\"\"The study objective is to contemplate the effectiveness of COVID-19 on the air pollution of Indian ter\u0002ritory from January 2020 to April 2020. We have executed data from European Space Agency (ESA) and CPCB online portal for air quality data dissemination. The Sentinel e 5 P satellite images elucidate that the Air quality of Indian territory has been improved significantly during COVID-19. Mumbai and Delhi are one of the most populated cities. These two cities have observed a substantial decrease in Nitrogen Dioxide (40e50%) compared to the same period last year. It suggests that the emergence of COVID-19 has been proved to a necessary evil as being advantageous for mitigating air pollution on Indian territory during the lock-down. The study found a significant decline in Nitrogen Dioxide in reputed states of India, i.e., Delhi and Mumbai. Moreover, a faded track of Nitrogen Dioxide can be seen at the Maritime route in the Indian Ocean. An upsurge in the environmental quality of India will also be beneficial for its neighbor countries, i.e., China, Pakistan, Iran, and Afghanistan.\"\"\")"
      ],
      "metadata": {
        "colab": {
          "base_uri": "https://localhost:8080/"
        },
        "id": "abNM4-GDFdVo",
        "outputId": "2139cffa-eb92-47fa-cf70-d9fdec655ebd"
      },
      "execution_count": 18,
      "outputs": [
        {
          "output_type": "stream",
          "name": "stdout",
          "text": [
            "ACTUAL ABSTRACT - The study objective is to contemplate the effectiveness of COVID-19 on the air pollution of Indian ter\u0002ritory from January 2020 to April 2020. We have executed data from European Space Agency (ESA) and CPCB online portal for air quality data dissemination. The Sentinel e 5 P satellite images elucidate that the Air quality of Indian territory has been improved significantly during COVID-19. Mumbai and Delhi are one of the most populated cities. These two cities have observed a substantial decrease in Nitrogen Dioxide (40e50%) compared to the same period last year. It suggests that the emergence of COVID-19 has been proved to a necessary evil as being advantageous for mitigating air pollution on Indian territory during the lock-down. The study found a significant decline in Nitrogen Dioxide in reputed states of India, i.e., Delhi and Mumbai. Moreover, a faded track of Nitrogen Dioxide can be seen at the Maritime route in the Indian Ocean. An upsurge in the environmental quality of India will also be beneficial for its neighbor countries, i.e., China, Pakistan, Iran, and Afghanistan.\n",
            "\n",
            "Length of Abstract = 176\n",
            "\n",
            "DIRECT SUMMARIZATION USING T5 - covid-19 has improved the air quality of indian territory significantly. mumbai and delhi have observed a substantial decrease in nitrogen dioxide. a faded track of nitrogen dioxide can be seen at the maritime route in the indian ocean. an upsurge in the environmental quality of india will also be beneficial for neighbor countries.\n",
            "\n",
            "Length of Summary = 53\n",
            "\n",
            "SUMMARIZATION AFTER EXTRACTIVE USING T5 - covid-19 has been proved to be a necessary evil. an upsurge in the environmental quality of india will also be beneficial for its neighbor countries.\n",
            "\n",
            "Length of Summary = 25\n"
          ]
        }
      ]
    },
    {
      "cell_type": "code",
      "source": [
        "create_summaries(\"\"\"The aim of the study is to introduce some approach which might help in improving daily temperature of data. Weather is a natural a phenomenon for which forecasting is a great challenge today. Weather parameters such as Rainfall, Relative Humidity , Wind Speed, Air Temperature are highly non-linear and complex phenomena, which include mathematical simulation and modeling for its correct forecasting. Weather Forecasting is use to simplify the purpose of knowledge and tools that are used for the state of atmosphere at a given place. The prediction is becoming more complicated due to changing weather condition. There are different software and types are available for Time Series forecasting. Our aim is to analyze the parameters and do the comparison of some strategies in predicting these temperatures. Here we tend to analyze the data of given parameters and notice the prediction for few period using the strategy of Autoregressive Integrated Moving Average (ARIMA) and Exponential Smoothing (ETS).The data from meteorological centers are taken for comparison of methods using packages such as ggplot2, forecast, time Date in R and automatic prediction strategies are available within the package applied for modeling with ARIMA and ETS methods. On basis of accuracy we tend to attempt the simplest Methodology. Our model will compare on basis of MAE, MASE, MAPE AND RMSE. The identification of model will chromatic inspection of both the ACF and PACF to hypothesize many possible models will estimated by selection criteria AIC, AICc and BIC.\"\"\")"
      ],
      "metadata": {
        "colab": {
          "base_uri": "https://localhost:8080/"
        },
        "id": "34u0j7evVzsx",
        "outputId": "5298ff1f-2a64-4e52-f520-a01654265044"
      },
      "execution_count": 19,
      "outputs": [
        {
          "output_type": "stream",
          "name": "stdout",
          "text": [
            "ACTUAL ABSTRACT - The aim of the study is to introduce some approach which might help in improving daily temperature of data. Weather is a natural a phenomenon for which forecasting is a great challenge today. Weather parameters such as Rainfall, Relative Humidity , Wind Speed, Air Temperature are highly non-linear and complex phenomena, which include mathematical simulation and modeling for its correct forecasting. Weather Forecasting is use to simplify the purpose of knowledge and tools that are used for the state of atmosphere at a given place. The prediction is becoming more complicated due to changing weather condition. There are different software and types are available for Time Series forecasting. Our aim is to analyze the parameters and do the comparison of some strategies in predicting these temperatures. Here we tend to analyze the data of given parameters and notice the prediction for few period using the strategy of Autoregressive Integrated Moving Average (ARIMA) and Exponential Smoothing (ETS).The data from meteorological centers are taken for comparison of methods using packages such as ggplot2, forecast, time Date in R and automatic prediction strategies are available within the package applied for modeling with ARIMA and ETS methods. On basis of accuracy we tend to attempt the simplest Methodology. Our model will compare on basis of MAE, MASE, MAPE AND RMSE. The identification of model will chromatic inspection of both the ACF and PACF to hypothesize many possible models will estimated by selection criteria AIC, AICc and BIC.\n",
            "\n",
            "Length of Abstract = 243\n",
            "\n",
            "DIRECT SUMMARIZATION USING T5 - weather forecasting is a nonlinear and complex phenomenon. we analyze the data of given parameters and notice the prediction for few period using the strategy of arima and ets. on basis of accuracy we tend to attempt the simplest methodology. identification of model will chromatic inspection of both the acf and pacf to hypothesize many possible models will estimated by selection criteria aicc, aicc and bic.\n",
            "\n",
            "Length of Summary = 66\n",
            "\n",
            "SUMMARIZATION AFTER EXTRACTIVE USING T5 - weather parameters such as rainfall, relative humidity, wind speed and air temperature are highly nonlinear and complex phenomena. mathematical simulation and modeling for its correct forecasting are very important for its correct forecasting. we introduce some approach which might help in improving daily temperature of data. there are different software and types are available for time series forecasting. identification of model will chromatic inspection of both the acf and pacf to hypothesize many possible models will estimated by selection criteria aicc and bic.\n",
            "\n",
            "Length of Summary = 83\n"
          ]
        }
      ]
    },
    {
      "cell_type": "code",
      "source": [
        "create_summaries(\"\"\"This paper explores the concept of economies and diseconomies of scale in the production process. Economies of scale refer to cost advantages that a firm experience as it increases its level of output, while diseconomies of scale refer to the increased costs that a firm experience as it increases its level of output. The paper provides a comprehensive examination of the different types of economies and diseconomies of scale, including internal and external economies and diseconomies of scale. The paper also discusses the various factors that can affect economies and diseconomies of scale and provides insights on how firms can effectively navigate these challenges. The paper concludes by highlighting the importance of considering economies and diseconomies of scale in the production process and the impact it can have on the overall efficiency and profitability of a firm.\"\"\")"
      ],
      "metadata": {
        "colab": {
          "base_uri": "https://localhost:8080/"
        },
        "id": "uEAmie4fvogf",
        "outputId": "a0f9aea8-81d4-47a9-e0c0-ab59bc1e2630"
      },
      "execution_count": 20,
      "outputs": [
        {
          "output_type": "stream",
          "name": "stdout",
          "text": [
            "ACTUAL ABSTRACT - This paper explores the concept of economies and diseconomies of scale in the production process. Economies of scale refer to cost advantages that a firm experience as it increases its level of output, while diseconomies of scale refer to the increased costs that a firm experience as it increases its level of output. The paper provides a comprehensive examination of the different types of economies and diseconomies of scale, including internal and external economies and diseconomies of scale. The paper also discusses the various factors that can affect economies and diseconomies of scale and provides insights on how firms can effectively navigate these challenges. The paper concludes by highlighting the importance of considering economies and diseconomies of scale in the production process and the impact it can have on the overall efficiency and profitability of a firm.\n",
            "\n",
            "Length of Abstract = 137\n",
            "\n",
            "DIRECT SUMMARIZATION USING T5 - the paper examines different types of economies and diseconomies of scale. it provides a comprehensive examination of internal and external economies and diseconomies of scale. it discusses the various factors that can affect economies and diseconomies of scale. it provides insights on how firms can effectively navigate these challenges.\n",
            "\n",
            "Length of Summary = 49\n",
            "\n",
            "SUMMARIZATION AFTER EXTRACTIVE USING T5 - the paper discusses various factors that can affect economies and diseconomies of scale. it provides insights on how firms can effectively navigate these challenges. it also highlights the importance of considering economies and diseconomies of scale.\n",
            "\n",
            "Length of Summary = 36\n"
          ]
        }
      ]
    },
    {
      "cell_type": "markdown",
      "source": [
        "Summarizing Examples"
      ],
      "metadata": {
        "id": "Anp9YlKHyCeS"
      }
    },
    {
      "cell_type": "code",
      "source": [
        "create_summaries(\"\"\"Let's use two hypothetical retail businesses as an example and compare them. One of them is a major company by the name of Malwart, while the other is a tiny neighbourhood shop by the name of Bob's Sporting Goods. Bob handles all of his distribution and inventory management manually and alone. Malwart maintains its distribution in the meanwhile using sophisticated software created only for them. It should come as no surprise that Malwart manages his inventory and distribution considerably more effectively and productively than Bob does. However, because his business is too small and he cannot afford to spend so much money, Bob is unable to invest in similar software.\"\"\")"
      ],
      "metadata": {
        "colab": {
          "base_uri": "https://localhost:8080/"
        },
        "id": "86KGHub4wqJc",
        "outputId": "f5b881bb-49f3-4d2f-cca6-496a621c0415"
      },
      "execution_count": 21,
      "outputs": [
        {
          "output_type": "stream",
          "name": "stdout",
          "text": [
            "ACTUAL ABSTRACT - Let's use two hypothetical retail businesses as an example and compare them. One of them is a major company by the name of Malwart, while the other is a tiny neighbourhood shop by the name of Bob's Sporting Goods. Bob handles all of his distribution and inventory management manually and alone. Malwart maintains its distribution in the meanwhile using sophisticated software created only for them. It should come as no surprise that Malwart manages his inventory and distribution considerably more effectively and productively than Bob does. However, because his business is too small and he cannot afford to spend so much money, Bob is unable to invest in similar software.\n",
            "\n",
            "Length of Abstract = 110\n",
            "\n",
            "DIRECT SUMMARIZATION USING T5 - we compare two retail businesses with sophisticated software. one is malwart and the other is bob's sporting goods. both businesses use proprietary software for distribution and inventory management. because malwart cannot afford to spend so much money, bob is unable to invest in similar software.\n",
            "\n",
            "Length of Summary = 45\n",
            "\n",
            "SUMMARIZATION AFTER EXTRACTIVE USING T5 - we compare two retail businesses with sophisticated software. one is a major company malwart and the other is a small neighbourhood shop. malwart manages its distribution and inventory much more effectively than bob. bob can't afford to spend so much money on software for them. but malwart maintains its distribution in the meanwhile using only their software.\n",
            "\n",
            "Length of Summary = 57\n"
          ]
        }
      ]
    },
    {
      "cell_type": "markdown",
      "source": [
        "Summarizing generic text paragraphs"
      ],
      "metadata": {
        "id": "Ke3E6LfcyD2B"
      }
    },
    {
      "cell_type": "code",
      "source": [
        "create_summaries(\"\"\"Holi is the festival of colors celebrated with our loved ones. It is one of the biggest festivals in our country which comes every year during March. Children, adults and even the elder citizens take part in the fun and preparations of Holi for three days starting from a full moon day. People from all religions play Holi by exchanging sweets, gujiya, thandai and splashing colors on each other. Water guns and water balloons are also used by children during the Holidays.\"\"\")"
      ],
      "metadata": {
        "colab": {
          "base_uri": "https://localhost:8080/"
        },
        "id": "0Ob8T00FxFxa",
        "outputId": "cf3019ef-3bc6-4a2e-aea5-fe55a49e1e0b"
      },
      "execution_count": 22,
      "outputs": [
        {
          "output_type": "stream",
          "name": "stdout",
          "text": [
            "ACTUAL ABSTRACT - Holi is the festival of colors celebrated with our loved ones. It is one of the biggest festivals in our country which comes every year during March. Children, adults and even the elder citizens take part in the fun and preparations of Holi for three days starting from a full moon day. People from all religions play Holi by exchanging sweets, gujiya, thandai and splashing colors on each other. Water guns and water balloons are also used by children during the Holidays.\n",
            "\n",
            "Length of Abstract = 82\n",
            "\n",
            "DIRECT SUMMARIZATION USING T5 - holi is the festival of colors celebrated with our loved ones. people from all religions play holi by exchanging sweets, gujiya, thandai and splashing colors on each other. water guns and water balloons are also used by children during the holidays.\n",
            "\n",
            "Length of Summary = 41\n",
            "\n",
            "SUMMARIZATION AFTER EXTRACTIVE USING T5 - children, adults and even the elder citizens take part in the fun and preparations of holi for three days starting from a full moon day. people from all religions play holi by exchanging sweets, gujiya, thandai and splashing colors on each other. water guns and water balloons are also used by children during the holidays.\n",
            "\n",
            "Length of Summary = 55\n"
          ]
        }
      ]
    }
  ]
}