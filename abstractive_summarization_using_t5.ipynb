{
  "metadata": {
    "kernelspec": {
      "language": "python",
      "display_name": "Python 3",
      "name": "python3"
    },
    "language_info": {
      "name": "python",
      "version": "3.7.12",
      "mimetype": "text/x-python",
      "codemirror_mode": {
        "name": "ipython",
        "version": 3
      },
      "pygments_lexer": "ipython3",
      "nbconvert_exporter": "python",
      "file_extension": ".py"
    },
    "colab": {
      "provenance": [],
      "include_colab_link": true
    },
    "accelerator": "GPU",
    "gpuClass": "standard"
  },
  "nbformat_minor": 0,
  "nbformat": 4,
  "cells": [
    {
      "cell_type": "markdown",
      "metadata": {
        "id": "view-in-github",
        "colab_type": "text"
      },
      "source": [
        "<a href=\"https://colab.research.google.com/github/harshbansal7/abstractive-summarization-using-T5/blob/master/abstractive_summarization_using_t5.ipynb\" target=\"_parent\"><img src=\"https://colab.research.google.com/assets/colab-badge.svg\" alt=\"Open In Colab\"/></a>"
      ]
    },
    {
      "cell_type": "code",
      "source": [
        "from google.colab import drive\n",
        "drive.mount('/content/drive')"
      ],
      "metadata": {
        "colab": {
          "base_uri": "https://localhost:8080/"
        },
        "id": "Jb4rNLO6CPO6",
        "outputId": "3465190b-a86d-49a3-b266-cf44cce86c94"
      },
      "execution_count": 1,
      "outputs": [
        {
          "output_type": "stream",
          "name": "stdout",
          "text": [
            "Drive already mounted at /content/drive; to attempt to forcibly remount, call drive.mount(\"/content/drive\", force_remount=True).\n"
          ]
        }
      ]
    },
    {
      "cell_type": "code",
      "source": [],
      "metadata": {
        "id": "aPKVqWxWB6KS"
      },
      "execution_count": 2,
      "outputs": []
    },
    {
      "cell_type": "code",
      "source": [
        "import pandas as pd\n",
        "import nltk\n",
        "nltk.download('punkt')\n",
        "from nltk.tokenize import sent_tokenize\n",
        "from sklearn.model_selection import train_test_split\n",
        "\n",
        "# Load the data into a DataFrame\n",
        "df = pd.read_csv(\"/content/abstractive-summarization-using-T5/datasets/train.csv\")\n",
        "df_val = pd.read_csv(\"/content/abstractive-summarization-using-T5/datasets/val.csv\")\n"
      ],
      "metadata": {
        "_uuid": "8f2839f25d086af736a60e9eeb907d3b93b6e0e5",
        "_cell_guid": "b1076dfc-b9ad-4769-8c92-a6c4dae69d19",
        "execution": {
          "iopub.status.busy": "2023-01-21T12:38:23.434808Z",
          "iopub.execute_input": "2023-01-21T12:38:23.435260Z",
          "iopub.status.idle": "2023-01-21T12:38:24.718527Z",
          "shell.execute_reply.started": "2023-01-21T12:38:23.435177Z",
          "shell.execute_reply": "2023-01-21T12:38:24.717527Z"
        },
        "trusted": true,
        "colab": {
          "base_uri": "https://localhost:8080/"
        },
        "id": "7OQnjsdJ7beC",
        "outputId": "e4c0ec34-f2a9-4cbe-ddeb-a329f3d5135e"
      },
      "execution_count": 3,
      "outputs": [
        {
          "output_type": "stream",
          "name": "stderr",
          "text": [
            "[nltk_data] Downloading package punkt to /root/nltk_data...\n",
            "[nltk_data]   Package punkt is already up-to-date!\n"
          ]
        }
      ]
    },
    {
      "cell_type": "code",
      "source": [
        "df = df.drop(columns='FileName')\n",
        "df = df.rename(columns={\"Abstract\":\"source_text\", \"RHS\":\"target_text\"})\n",
        "df = df[['source_text', 'target_text']]\n",
        "\n",
        "df['source_text'] = \"summarize: \" + df['source_text']\n",
        "df\n",
        "\n",
        "df_val = df_val.drop(columns='FileName')\n",
        "df_val = df_val.rename(columns={\"Abstract\":\"source_text\", \"RHS\":\"target_text\"})\n",
        "df_val = df_val[['source_text', 'target_text']]\n",
        "\n",
        "df_val['source_text'] = \"summarize: \" + df_val['source_text']\n",
        "df_val"
      ],
      "metadata": {
        "execution": {
          "iopub.status.busy": "2023-01-21T12:38:25.342466Z",
          "iopub.execute_input": "2023-01-21T12:38:25.342901Z",
          "iopub.status.idle": "2023-01-21T12:38:25.375703Z",
          "shell.execute_reply.started": "2023-01-21T12:38:25.342864Z",
          "shell.execute_reply": "2023-01-21T12:38:25.374698Z"
        },
        "trusted": true,
        "id": "P3nxTYS07beM",
        "outputId": "48f211bb-82fb-4007-d2f0-f7955a4653d7",
        "colab": {
          "base_uri": "https://localhost:8080/",
          "height": 423
        }
      },
      "execution_count": 4,
      "outputs": [
        {
          "output_type": "execute_result",
          "data": {
            "text/plain": [
              "                                          source_text  \\\n",
              "0   summarize:  Human face can be seen as a soft t...   \n",
              "1   summarize:  In this paper we use a numerical p...   \n",
              "2   summarize:  Modularisation product platforms p...   \n",
              "3   summarize:  In order to investigate the micros...   \n",
              "4   summarize:  An efficient approach is proposed ...   \n",
              "..                                                ...   \n",
              "95  summarize:  This paper proposes a strategy for...   \n",
              "96  summarize:  A family of spatial beam finite el...   \n",
              "97  summarize:  A new adaptive multiscale method i...   \n",
              "98  summarize:  A nonlocal extension of the damage...   \n",
              "99  summarize:  This paper describes the developme...   \n",
              "\n",
              "                                          target_text  \n",
              "0   We model the deformation of the human face due...  \n",
              "1   Bifurcation and postbifurcation of inflated hy...  \n",
              "2   Existing methods in modular product family dev...  \n",
              "3   A DRX model of FGH96 of IFW process is establi...  \n",
              "4   Propose a pragmatic approach for simulating co...  \n",
              "..                                                ...  \n",
              "95  Efficient strategy for GPU computing of FGFEA ...  \n",
              "96  We analyse fixed pole approach in geometricall...  \n",
              "97  A new adaptive multiscale method AMM is develo...  \n",
              "98  A new nonlocal damage plasticity model has bee...  \n",
              "99  A finite element model of bolt is proposed to ...  \n",
              "\n",
              "[100 rows x 2 columns]"
            ],
            "text/html": [
              "\n",
              "  <div id=\"df-c04d243e-c3b2-440e-b452-2287263403a2\">\n",
              "    <div class=\"colab-df-container\">\n",
              "      <div>\n",
              "<style scoped>\n",
              "    .dataframe tbody tr th:only-of-type {\n",
              "        vertical-align: middle;\n",
              "    }\n",
              "\n",
              "    .dataframe tbody tr th {\n",
              "        vertical-align: top;\n",
              "    }\n",
              "\n",
              "    .dataframe thead th {\n",
              "        text-align: right;\n",
              "    }\n",
              "</style>\n",
              "<table border=\"1\" class=\"dataframe\">\n",
              "  <thead>\n",
              "    <tr style=\"text-align: right;\">\n",
              "      <th></th>\n",
              "      <th>source_text</th>\n",
              "      <th>target_text</th>\n",
              "    </tr>\n",
              "  </thead>\n",
              "  <tbody>\n",
              "    <tr>\n",
              "      <th>0</th>\n",
              "      <td>summarize:  Human face can be seen as a soft t...</td>\n",
              "      <td>We model the deformation of the human face due...</td>\n",
              "    </tr>\n",
              "    <tr>\n",
              "      <th>1</th>\n",
              "      <td>summarize:  In this paper we use a numerical p...</td>\n",
              "      <td>Bifurcation and postbifurcation of inflated hy...</td>\n",
              "    </tr>\n",
              "    <tr>\n",
              "      <th>2</th>\n",
              "      <td>summarize:  Modularisation product platforms p...</td>\n",
              "      <td>Existing methods in modular product family dev...</td>\n",
              "    </tr>\n",
              "    <tr>\n",
              "      <th>3</th>\n",
              "      <td>summarize:  In order to investigate the micros...</td>\n",
              "      <td>A DRX model of FGH96 of IFW process is establi...</td>\n",
              "    </tr>\n",
              "    <tr>\n",
              "      <th>4</th>\n",
              "      <td>summarize:  An efficient approach is proposed ...</td>\n",
              "      <td>Propose a pragmatic approach for simulating co...</td>\n",
              "    </tr>\n",
              "    <tr>\n",
              "      <th>...</th>\n",
              "      <td>...</td>\n",
              "      <td>...</td>\n",
              "    </tr>\n",
              "    <tr>\n",
              "      <th>95</th>\n",
              "      <td>summarize:  This paper proposes a strategy for...</td>\n",
              "      <td>Efficient strategy for GPU computing of FGFEA ...</td>\n",
              "    </tr>\n",
              "    <tr>\n",
              "      <th>96</th>\n",
              "      <td>summarize:  A family of spatial beam finite el...</td>\n",
              "      <td>We analyse fixed pole approach in geometricall...</td>\n",
              "    </tr>\n",
              "    <tr>\n",
              "      <th>97</th>\n",
              "      <td>summarize:  A new adaptive multiscale method i...</td>\n",
              "      <td>A new adaptive multiscale method AMM is develo...</td>\n",
              "    </tr>\n",
              "    <tr>\n",
              "      <th>98</th>\n",
              "      <td>summarize:  A nonlocal extension of the damage...</td>\n",
              "      <td>A new nonlocal damage plasticity model has bee...</td>\n",
              "    </tr>\n",
              "    <tr>\n",
              "      <th>99</th>\n",
              "      <td>summarize:  This paper describes the developme...</td>\n",
              "      <td>A finite element model of bolt is proposed to ...</td>\n",
              "    </tr>\n",
              "  </tbody>\n",
              "</table>\n",
              "<p>100 rows × 2 columns</p>\n",
              "</div>\n",
              "      <button class=\"colab-df-convert\" onclick=\"convertToInteractive('df-c04d243e-c3b2-440e-b452-2287263403a2')\"\n",
              "              title=\"Convert this dataframe to an interactive table.\"\n",
              "              style=\"display:none;\">\n",
              "        \n",
              "  <svg xmlns=\"http://www.w3.org/2000/svg\" height=\"24px\"viewBox=\"0 0 24 24\"\n",
              "       width=\"24px\">\n",
              "    <path d=\"M0 0h24v24H0V0z\" fill=\"none\"/>\n",
              "    <path d=\"M18.56 5.44l.94 2.06.94-2.06 2.06-.94-2.06-.94-.94-2.06-.94 2.06-2.06.94zm-11 1L8.5 8.5l.94-2.06 2.06-.94-2.06-.94L8.5 2.5l-.94 2.06-2.06.94zm10 10l.94 2.06.94-2.06 2.06-.94-2.06-.94-.94-2.06-.94 2.06-2.06.94z\"/><path d=\"M17.41 7.96l-1.37-1.37c-.4-.4-.92-.59-1.43-.59-.52 0-1.04.2-1.43.59L10.3 9.45l-7.72 7.72c-.78.78-.78 2.05 0 2.83L4 21.41c.39.39.9.59 1.41.59.51 0 1.02-.2 1.41-.59l7.78-7.78 2.81-2.81c.8-.78.8-2.07 0-2.86zM5.41 20L4 18.59l7.72-7.72 1.47 1.35L5.41 20z\"/>\n",
              "  </svg>\n",
              "      </button>\n",
              "      \n",
              "  <style>\n",
              "    .colab-df-container {\n",
              "      display:flex;\n",
              "      flex-wrap:wrap;\n",
              "      gap: 12px;\n",
              "    }\n",
              "\n",
              "    .colab-df-convert {\n",
              "      background-color: #E8F0FE;\n",
              "      border: none;\n",
              "      border-radius: 50%;\n",
              "      cursor: pointer;\n",
              "      display: none;\n",
              "      fill: #1967D2;\n",
              "      height: 32px;\n",
              "      padding: 0 0 0 0;\n",
              "      width: 32px;\n",
              "    }\n",
              "\n",
              "    .colab-df-convert:hover {\n",
              "      background-color: #E2EBFA;\n",
              "      box-shadow: 0px 1px 2px rgba(60, 64, 67, 0.3), 0px 1px 3px 1px rgba(60, 64, 67, 0.15);\n",
              "      fill: #174EA6;\n",
              "    }\n",
              "\n",
              "    [theme=dark] .colab-df-convert {\n",
              "      background-color: #3B4455;\n",
              "      fill: #D2E3FC;\n",
              "    }\n",
              "\n",
              "    [theme=dark] .colab-df-convert:hover {\n",
              "      background-color: #434B5C;\n",
              "      box-shadow: 0px 1px 3px 1px rgba(0, 0, 0, 0.15);\n",
              "      filter: drop-shadow(0px 1px 2px rgba(0, 0, 0, 0.3));\n",
              "      fill: #FFFFFF;\n",
              "    }\n",
              "  </style>\n",
              "\n",
              "      <script>\n",
              "        const buttonEl =\n",
              "          document.querySelector('#df-c04d243e-c3b2-440e-b452-2287263403a2 button.colab-df-convert');\n",
              "        buttonEl.style.display =\n",
              "          google.colab.kernel.accessAllowed ? 'block' : 'none';\n",
              "\n",
              "        async function convertToInteractive(key) {\n",
              "          const element = document.querySelector('#df-c04d243e-c3b2-440e-b452-2287263403a2');\n",
              "          const dataTable =\n",
              "            await google.colab.kernel.invokeFunction('convertToInteractive',\n",
              "                                                     [key], {});\n",
              "          if (!dataTable) return;\n",
              "\n",
              "          const docLinkHtml = 'Like what you see? Visit the ' +\n",
              "            '<a target=\"_blank\" href=https://colab.research.google.com/notebooks/data_table.ipynb>data table notebook</a>'\n",
              "            + ' to learn more about interactive tables.';\n",
              "          element.innerHTML = '';\n",
              "          dataTable['output_type'] = 'display_data';\n",
              "          await google.colab.output.renderOutput(dataTable, element);\n",
              "          const docLink = document.createElement('div');\n",
              "          docLink.innerHTML = docLinkHtml;\n",
              "          element.appendChild(docLink);\n",
              "        }\n",
              "      </script>\n",
              "    </div>\n",
              "  </div>\n",
              "  "
            ]
          },
          "metadata": {},
          "execution_count": 4
        }
      ]
    },
    {
      "cell_type": "code",
      "source": [
        "%%capture\n",
        "!pip install --upgrade simplet5"
      ],
      "metadata": {
        "execution": {
          "iopub.status.busy": "2023-01-21T12:38:25.377086Z",
          "iopub.execute_input": "2023-01-21T12:38:25.378048Z",
          "iopub.status.idle": "2023-01-21T12:38:59.455568Z",
          "shell.execute_reply.started": "2023-01-21T12:38:25.378012Z",
          "shell.execute_reply": "2023-01-21T12:38:59.454440Z"
        },
        "trusted": true,
        "id": "7EgYrmMJ7beN"
      },
      "execution_count": 5,
      "outputs": []
    },
    {
      "cell_type": "code",
      "source": [
        "from simplet5 import SimpleT5\n",
        "model = SimpleT5()"
      ],
      "metadata": {
        "execution": {
          "iopub.status.busy": "2023-01-21T12:38:59.457365Z",
          "iopub.execute_input": "2023-01-21T12:38:59.458095Z",
          "iopub.status.idle": "2023-01-21T12:39:14.528255Z",
          "shell.execute_reply.started": "2023-01-21T12:38:59.458055Z",
          "shell.execute_reply": "2023-01-21T12:39:14.527161Z"
        },
        "trusted": true,
        "colab": {
          "base_uri": "https://localhost:8080/"
        },
        "id": "jDO1RkYk7beO",
        "outputId": "3d0e03a1-76ad-4612-b273-419b0eaf95cc"
      },
      "execution_count": 6,
      "outputs": [
        {
          "output_type": "stream",
          "name": "stderr",
          "text": [
            "INFO:pytorch_lightning.utilities.seed:Global seed set to 42\n"
          ]
        }
      ]
    },
    {
      "cell_type": "code",
      "source": [
        "# load (supports t5, mt5, byT5 models)\n",
        "# model.from_pretrained(\"t5\",\"t5-base\")\n",
        "\n",
        "# model.train(train_df=df, # pandas dataframe with 2 columns: source_text & target_text\n",
        "#             eval_df=df_val, # pandas dataframe with 2 columns: source_text & target_text\n",
        "#             source_max_token_len = 512, \n",
        "#             target_max_token_len = 100,\n",
        "#             batch_size = 8,\n",
        "#             max_epochs = 10,\n",
        "#             use_gpu = True,\n",
        "#             outputdir = \"/content\",\n",
        "#             early_stopping_patience_epochs = 0,\n",
        "#             precision = 32\n",
        "# )"
      ],
      "metadata": {
        "execution": {
          "iopub.status.busy": "2023-01-21T12:39:14.529713Z",
          "iopub.execute_input": "2023-01-21T12:39:14.530454Z",
          "iopub.status.idle": "2023-01-21T12:53:18.230822Z",
          "shell.execute_reply.started": "2023-01-21T12:39:14.530415Z",
          "shell.execute_reply": "2023-01-21T12:53:18.229763Z"
        },
        "trusted": true,
        "id": "VEaxnGs57beP"
      },
      "execution_count": 7,
      "outputs": []
    },
    {
      "cell_type": "code",
      "source": [
        "# import shutil\n",
        "# shutil.make_archive('model-archive', 'zip', '/content/simplet5-epoch-9-train-loss-1.3233-val-loss-2.5556')"
      ],
      "metadata": {
        "id": "1il3xBlhhMTU"
      },
      "execution_count": 8,
      "outputs": []
    },
    {
      "cell_type": "code",
      "source": [
        "model.load_model(\"t5\",\"/content/abstractive-summarization-using-T5/simplet5-epoch-9-train-loss-1.3675-val-loss-2.6217\", use_gpu=True)"
      ],
      "metadata": {
        "execution": {
          "iopub.status.busy": "2023-01-21T12:53:53.360566Z",
          "iopub.execute_input": "2023-01-21T12:53:53.360921Z",
          "iopub.status.idle": "2023-01-21T12:53:54.526893Z",
          "shell.execute_reply.started": "2023-01-21T12:53:53.360891Z",
          "shell.execute_reply": "2023-01-21T12:53:54.525559Z"
        },
        "trusted": true,
        "id": "T8KwnK0i7beQ"
      },
      "execution_count": 9,
      "outputs": []
    },
    {
      "cell_type": "code",
      "source": [
        "%%capture\n",
        "!pip install pytextrank\n",
        "!python -m spacy download en_core_web_sm\n",
        "!pip install --upgrade scipy networkx"
      ],
      "metadata": {
        "_kg_hide-output": false,
        "execution": {
          "iopub.status.idle": "2023-01-21T12:54:32.642652Z",
          "shell.execute_reply.started": "2023-01-21T12:53:56.168517Z",
          "shell.execute_reply": "2023-01-21T12:54:32.641478Z"
        },
        "trusted": true,
        "id": "E-azzzMe7beQ"
      },
      "execution_count": 10,
      "outputs": []
    },
    {
      "cell_type": "code",
      "source": [
        "import spacy\n",
        "import pytextrank\n",
        "\n",
        "def extract_important_sentences(text, limit_phrases=15, limit_sentences=5):\n",
        "    en_nlp = spacy.load(\"en_core_web_sm\")\n",
        "    en_nlp.add_pipe(\"textrank\", last=True)\n",
        "    doc = en_nlp(text)\n",
        "    tr = doc._.textrank\n",
        "    summary = \"\"\n",
        "    for sent in tr.summary(limit_phrases=limit_phrases, limit_sentences=limit_sentences):\n",
        "        summary += sent.text + \" \"\n",
        "    return summary"
      ],
      "metadata": {
        "execution": {
          "iopub.status.busy": "2023-01-21T13:05:02.254650Z",
          "iopub.execute_input": "2023-01-21T13:05:02.255053Z",
          "iopub.status.idle": "2023-01-21T13:05:02.262452Z",
          "shell.execute_reply.started": "2023-01-21T13:05:02.255019Z",
          "shell.execute_reply": "2023-01-21T13:05:02.261113Z"
        },
        "trusted": true,
        "id": "FpeCXN6d7beR"
      },
      "execution_count": 11,
      "outputs": []
    },
    {
      "cell_type": "code",
      "source": [
        "def create_summaries(text):\n",
        "\n",
        "    print(\"ACTUAL ABSTRACT - \" + text)\n",
        "    print(\"\\nLength of Abstract = \" + str(len(text.split())))\n",
        "    sumtext = \"summarize: \" + text\n",
        "    actual_text_prediction = model.predict(sumtext)[0]\n",
        "    print(\"\\nDIRECT SUMMARIZATION USING T5 - \" + actual_text_prediction)\n",
        "    print(\"\\nLength of Summary = \" + str(len(actual_text_prediction.split())))\n",
        "\n",
        "    newtext = extract_important_sentences(text, 20, 6)\n",
        "    newtext = \"summarize: \" + newtext\n",
        "    extractive_text_prediction = model.predict(newtext)[0]\n",
        "    print(\"\\nSUMMARIZATION AFTER EXTRACTIVE USING T5 - \" + extractive_text_prediction)\n",
        "    print(\"\\nLength of Summary = \" + str(len(extractive_text_prediction.split())))"
      ],
      "metadata": {
        "id": "wcIQOHTVDo-C"
      },
      "execution_count": 12,
      "outputs": []
    },
    {
      "cell_type": "code",
      "source": [
        "text = \"\"\"Since their early discovery, thin films have quickly found industrial uses, including in ornamental and optical applications. The range of applications for thin film technology has expanded to the point where nearly every industrial sector now uses it to impart specific physical and chemical properties to the surface of bulk materials. This expansion has been aided by the development of vacuum technology and electric power facilities. Recently, the most technologically sophisticated applications, such microelectronics and biomedicine, have been made possible by the ability to adjust the film properties by the change of the microstructure via the deposition parameters used in a particular deposition procedure. Despite such remarkable advancements, the relationship between all phases of the manufacture of thin films, specifically deposition parameters-morphology and characteristics, is not entirely precise. The development of complex models for an accurate prediction of film properties has been hampered, among other things, by the lack of characterization techniques suited for probing films with thickness less than a single atomic layer and a lack of knowledge of the physics. Additionally, there are still certain challenges with the mass production of advanced structures, such as quantum wells and wires, as well as a relatively high cost for their deposition. Thin film technology will be more competitive for cutting-edge technological applications once these obstacles are removed.\"\"\""
      ],
      "metadata": {
        "execution": {
          "iopub.status.busy": "2023-01-21T13:26:54.838972Z",
          "iopub.execute_input": "2023-01-21T13:26:54.839364Z",
          "iopub.status.idle": "2023-01-21T13:26:54.845014Z",
          "shell.execute_reply.started": "2023-01-21T13:26:54.839332Z",
          "shell.execute_reply": "2023-01-21T13:26:54.843921Z"
        },
        "trusted": true,
        "id": "UeSY5X5f7beR"
      },
      "execution_count": 13,
      "outputs": []
    },
    {
      "cell_type": "code",
      "source": [
        "create_summaries(text)"
      ],
      "metadata": {
        "execution": {
          "iopub.status.busy": "2023-01-21T13:26:56.318085Z",
          "iopub.execute_input": "2023-01-21T13:26:56.318833Z",
          "iopub.status.idle": "2023-01-21T13:26:56.991525Z",
          "shell.execute_reply.started": "2023-01-21T13:26:56.318787Z",
          "shell.execute_reply": "2023-01-21T13:26:56.989803Z"
        },
        "trusted": true,
        "id": "w_Gjt1iq7beR",
        "outputId": "225d2536-5aba-41ad-a9e2-f6cac3c322aa",
        "colab": {
          "base_uri": "https://localhost:8080/"
        }
      },
      "execution_count": 14,
      "outputs": [
        {
          "output_type": "stream",
          "name": "stdout",
          "text": [
            "ACTUAL ABSTRACT - Since their early discovery, thin films have quickly found industrial uses, including in ornamental and optical applications. The range of applications for thin film technology has expanded to the point where nearly every industrial sector now uses it to impart specific physical and chemical properties to the surface of bulk materials. This expansion has been aided by the development of vacuum technology and electric power facilities. Recently, the most technologically sophisticated applications, such microelectronics and biomedicine, have been made possible by the ability to adjust the film properties by the change of the microstructure via the deposition parameters used in a particular deposition procedure. Despite such remarkable advancements, the relationship between all phases of the manufacture of thin films, specifically deposition parameters-morphology and characteristics, is not entirely precise. The development of complex models for an accurate prediction of film properties has been hampered, among other things, by the lack of characterization techniques suited for probing films with thickness less than a single atomic layer and a lack of knowledge of the physics. Additionally, there are still certain challenges with the mass production of advanced structures, such as quantum wells and wires, as well as a relatively high cost for their deposition. Thin film technology will be more competitive for cutting-edge technological applications once these obstacles are removed.\n",
            "\n",
            "Length of Abstract = 217\n",
            "\n",
            "DIRECT SUMMARIZATION USING T5 - The relationship between all phases of the manufacture of thin films is not entirely precise. The development of models for an accurate prediction of film properties has been hampered by the lack of characterization techniques suited for probing films with thickness less than a single atomic layer and a lack of knowledge of the physics. There are still certain challenges with the mass production of advanced structures, such as quantum wells and wires, as well as a relatively high cost for their deposition\n",
            "\n",
            "Length of Summary = 83\n",
            "\n",
            "SUMMARIZATION AFTER EXTRACTIVE USING T5 - Thin films have found industrial uses including in ornamental and optical applications. The relationship between all phases of the manufacture of thin films is not entirely precise. The relationship between deposition parameters-morphology and characteristics is not entirely clear. The ability to adjust the film properties via the change of the microstructure has been made possible.\n",
            "\n",
            "Length of Summary = 55\n"
          ]
        }
      ]
    },
    {
      "cell_type": "code",
      "source": [
        "# Create an empty dataframe\n",
        "pred_df = pd.DataFrame(columns=[\"target_text\", \"predicted_text\", \"predicted_after_extractive\"])\n",
        "\n",
        "df_val = pd.read_csv(\"/content/abstractive-summarization-using-T5/datasets/val.csv\")\n",
        "df_val = df_val.drop(columns='FileName')\n",
        "df_val = df_val.rename(columns={\"Abstract\":\"source_text\", \"RHS\":\"target_text\"})\n",
        "df_val = df_val[['source_text', 'target_text']]\n",
        "\n",
        "# Iterate over the validation dataset\n",
        "for i, row in df_val.iterrows():\n",
        "    # Make a prediction for the current row\n",
        "    pred_text = model.predict(\"summarize: \" + row[\"source_text\"])\n",
        "    newtext = extract_important_sentences(row[\"source_text\"], 20, 6)\n",
        "    newtext = \"summarize: \" + newtext\n",
        "    pred_text2 = model.predict(newtext)\n",
        "    # Add the prediction and the target text to the new dataframe\n",
        "    pred_df.loc[i] = [row[\"target_text\"], pred_text[0], pred_text2[0]]\n",
        "    \n",
        "pred_df"
      ],
      "metadata": {
        "execution": {
          "iopub.status.busy": "2023-01-21T13:38:56.150598Z",
          "iopub.execute_input": "2023-01-21T13:38:56.150948Z",
          "iopub.status.idle": "2023-01-21T13:40:28.511595Z",
          "shell.execute_reply.started": "2023-01-21T13:38:56.150912Z",
          "shell.execute_reply": "2023-01-21T13:40:28.510580Z"
        },
        "trusted": true,
        "id": "fX-M0O0C7beU",
        "colab": {
          "base_uri": "https://localhost:8080/",
          "height": 4061
        },
        "outputId": "afb25318-9ac9-46d3-b1a5-f16dceea1e6e"
      },
      "execution_count": 15,
      "outputs": [
        {
          "output_type": "stream",
          "name": "stderr",
          "text": [
            "Token indices sequence length is longer than the specified maximum sequence length for this model (572 > 512). Running this sequence through the model will result in indexing errors\n"
          ]
        },
        {
          "output_type": "execute_result",
          "data": {
            "text/plain": [
              "                                          target_text  \\\n",
              "0   We model the deformation of the human face due...   \n",
              "1   Bifurcation and postbifurcation of inflated hy...   \n",
              "2   Existing methods in modular product family dev...   \n",
              "3   A DRX model of FGH96 of IFW process is establi...   \n",
              "4   Propose a pragmatic approach for simulating co...   \n",
              "..                                                ...   \n",
              "95  Efficient strategy for GPU computing of FGFEA ...   \n",
              "96  We analyse fixed pole approach in geometricall...   \n",
              "97  A new adaptive multiscale method AMM is develo...   \n",
              "98  A new nonlocal damage plasticity model has bee...   \n",
              "99  A finite element model of bolt is proposed to ...   \n",
              "\n",
              "                                       predicted_text  \\\n",
              "0   3 D muscle structures are embedded inside a fa...   \n",
              "1   We analyse bifurcation and postbifurcation of ...   \n",
              "2   We analyse a case in which the aim was rationa...   \n",
              "3   The microstructure evolution of FGH96 ring par...   \n",
              "4   We propose a novel approach for industrial par...   \n",
              "..                                                ...   \n",
              "95  A matrix free GPU implementation of Fixed Grid...   \n",
              "96  A family of spatial beam finite elements based...   \n",
              "97  A new adaptive multiscale method is developed ...   \n",
              "98  A nonlocal extension of the damage plasticity ...   \n",
              "99  A reduced model of a fastener using Multi Conn...   \n",
              "\n",
              "                           predicted_after_extractive  \n",
              "0   Muscle forces are decomposed into discrete poi...  \n",
              "1   We model arterial wall tissue with this class ...  \n",
              "2   Modularisation product platforms product famil...  \n",
              "3   The microstructure evolution of FGH96 ring par...  \n",
              "4   The eXtended Finite Element Method is used to ...  \n",
              "..                                                ...  \n",
              "95  We propose a strategy for the efficient implem...  \n",
              "96  A family of spatial beam finite elements based...  \n",
              "97  Macroscopic nodes are placed uniformly along e...  \n",
              "98  The influence of mesh size on the structural r...  \n",
              "99  The reduced model is compared with the 3 D sol...  \n",
              "\n",
              "[100 rows x 3 columns]"
            ],
            "text/html": [
              "\n",
              "  <div id=\"df-e4a140dd-0b5d-4e20-ad55-2ec25ae22997\">\n",
              "    <div class=\"colab-df-container\">\n",
              "      <div>\n",
              "<style scoped>\n",
              "    .dataframe tbody tr th:only-of-type {\n",
              "        vertical-align: middle;\n",
              "    }\n",
              "\n",
              "    .dataframe tbody tr th {\n",
              "        vertical-align: top;\n",
              "    }\n",
              "\n",
              "    .dataframe thead th {\n",
              "        text-align: right;\n",
              "    }\n",
              "</style>\n",
              "<table border=\"1\" class=\"dataframe\">\n",
              "  <thead>\n",
              "    <tr style=\"text-align: right;\">\n",
              "      <th></th>\n",
              "      <th>target_text</th>\n",
              "      <th>predicted_text</th>\n",
              "      <th>predicted_after_extractive</th>\n",
              "    </tr>\n",
              "  </thead>\n",
              "  <tbody>\n",
              "    <tr>\n",
              "      <th>0</th>\n",
              "      <td>We model the deformation of the human face due...</td>\n",
              "      <td>3 D muscle structures are embedded inside a fa...</td>\n",
              "      <td>Muscle forces are decomposed into discrete poi...</td>\n",
              "    </tr>\n",
              "    <tr>\n",
              "      <th>1</th>\n",
              "      <td>Bifurcation and postbifurcation of inflated hy...</td>\n",
              "      <td>We analyse bifurcation and postbifurcation of ...</td>\n",
              "      <td>We model arterial wall tissue with this class ...</td>\n",
              "    </tr>\n",
              "    <tr>\n",
              "      <th>2</th>\n",
              "      <td>Existing methods in modular product family dev...</td>\n",
              "      <td>We analyse a case in which the aim was rationa...</td>\n",
              "      <td>Modularisation product platforms product famil...</td>\n",
              "    </tr>\n",
              "    <tr>\n",
              "      <th>3</th>\n",
              "      <td>A DRX model of FGH96 of IFW process is establi...</td>\n",
              "      <td>The microstructure evolution of FGH96 ring par...</td>\n",
              "      <td>The microstructure evolution of FGH96 ring par...</td>\n",
              "    </tr>\n",
              "    <tr>\n",
              "      <th>4</th>\n",
              "      <td>Propose a pragmatic approach for simulating co...</td>\n",
              "      <td>We propose a novel approach for industrial par...</td>\n",
              "      <td>The eXtended Finite Element Method is used to ...</td>\n",
              "    </tr>\n",
              "    <tr>\n",
              "      <th>...</th>\n",
              "      <td>...</td>\n",
              "      <td>...</td>\n",
              "      <td>...</td>\n",
              "    </tr>\n",
              "    <tr>\n",
              "      <th>95</th>\n",
              "      <td>Efficient strategy for GPU computing of FGFEA ...</td>\n",
              "      <td>A matrix free GPU implementation of Fixed Grid...</td>\n",
              "      <td>We propose a strategy for the efficient implem...</td>\n",
              "    </tr>\n",
              "    <tr>\n",
              "      <th>96</th>\n",
              "      <td>We analyse fixed pole approach in geometricall...</td>\n",
              "      <td>A family of spatial beam finite elements based...</td>\n",
              "      <td>A family of spatial beam finite elements based...</td>\n",
              "    </tr>\n",
              "    <tr>\n",
              "      <th>97</th>\n",
              "      <td>A new adaptive multiscale method AMM is develo...</td>\n",
              "      <td>A new adaptive multiscale method is developed ...</td>\n",
              "      <td>Macroscopic nodes are placed uniformly along e...</td>\n",
              "    </tr>\n",
              "    <tr>\n",
              "      <th>98</th>\n",
              "      <td>A new nonlocal damage plasticity model has bee...</td>\n",
              "      <td>A nonlocal extension of the damage plasticity ...</td>\n",
              "      <td>The influence of mesh size on the structural r...</td>\n",
              "    </tr>\n",
              "    <tr>\n",
              "      <th>99</th>\n",
              "      <td>A finite element model of bolt is proposed to ...</td>\n",
              "      <td>A reduced model of a fastener using Multi Conn...</td>\n",
              "      <td>The reduced model is compared with the 3 D sol...</td>\n",
              "    </tr>\n",
              "  </tbody>\n",
              "</table>\n",
              "<p>100 rows × 3 columns</p>\n",
              "</div>\n",
              "      <button class=\"colab-df-convert\" onclick=\"convertToInteractive('df-e4a140dd-0b5d-4e20-ad55-2ec25ae22997')\"\n",
              "              title=\"Convert this dataframe to an interactive table.\"\n",
              "              style=\"display:none;\">\n",
              "        \n",
              "  <svg xmlns=\"http://www.w3.org/2000/svg\" height=\"24px\"viewBox=\"0 0 24 24\"\n",
              "       width=\"24px\">\n",
              "    <path d=\"M0 0h24v24H0V0z\" fill=\"none\"/>\n",
              "    <path d=\"M18.56 5.44l.94 2.06.94-2.06 2.06-.94-2.06-.94-.94-2.06-.94 2.06-2.06.94zm-11 1L8.5 8.5l.94-2.06 2.06-.94-2.06-.94L8.5 2.5l-.94 2.06-2.06.94zm10 10l.94 2.06.94-2.06 2.06-.94-2.06-.94-.94-2.06-.94 2.06-2.06.94z\"/><path d=\"M17.41 7.96l-1.37-1.37c-.4-.4-.92-.59-1.43-.59-.52 0-1.04.2-1.43.59L10.3 9.45l-7.72 7.72c-.78.78-.78 2.05 0 2.83L4 21.41c.39.39.9.59 1.41.59.51 0 1.02-.2 1.41-.59l7.78-7.78 2.81-2.81c.8-.78.8-2.07 0-2.86zM5.41 20L4 18.59l7.72-7.72 1.47 1.35L5.41 20z\"/>\n",
              "  </svg>\n",
              "      </button>\n",
              "      \n",
              "  <style>\n",
              "    .colab-df-container {\n",
              "      display:flex;\n",
              "      flex-wrap:wrap;\n",
              "      gap: 12px;\n",
              "    }\n",
              "\n",
              "    .colab-df-convert {\n",
              "      background-color: #E8F0FE;\n",
              "      border: none;\n",
              "      border-radius: 50%;\n",
              "      cursor: pointer;\n",
              "      display: none;\n",
              "      fill: #1967D2;\n",
              "      height: 32px;\n",
              "      padding: 0 0 0 0;\n",
              "      width: 32px;\n",
              "    }\n",
              "\n",
              "    .colab-df-convert:hover {\n",
              "      background-color: #E2EBFA;\n",
              "      box-shadow: 0px 1px 2px rgba(60, 64, 67, 0.3), 0px 1px 3px 1px rgba(60, 64, 67, 0.15);\n",
              "      fill: #174EA6;\n",
              "    }\n",
              "\n",
              "    [theme=dark] .colab-df-convert {\n",
              "      background-color: #3B4455;\n",
              "      fill: #D2E3FC;\n",
              "    }\n",
              "\n",
              "    [theme=dark] .colab-df-convert:hover {\n",
              "      background-color: #434B5C;\n",
              "      box-shadow: 0px 1px 3px 1px rgba(0, 0, 0, 0.15);\n",
              "      filter: drop-shadow(0px 1px 2px rgba(0, 0, 0, 0.3));\n",
              "      fill: #FFFFFF;\n",
              "    }\n",
              "  </style>\n",
              "\n",
              "      <script>\n",
              "        const buttonEl =\n",
              "          document.querySelector('#df-e4a140dd-0b5d-4e20-ad55-2ec25ae22997 button.colab-df-convert');\n",
              "        buttonEl.style.display =\n",
              "          google.colab.kernel.accessAllowed ? 'block' : 'none';\n",
              "\n",
              "        async function convertToInteractive(key) {\n",
              "          const element = document.querySelector('#df-e4a140dd-0b5d-4e20-ad55-2ec25ae22997');\n",
              "          const dataTable =\n",
              "            await google.colab.kernel.invokeFunction('convertToInteractive',\n",
              "                                                     [key], {});\n",
              "          if (!dataTable) return;\n",
              "\n",
              "          const docLinkHtml = 'Like what you see? Visit the ' +\n",
              "            '<a target=\"_blank\" href=https://colab.research.google.com/notebooks/data_table.ipynb>data table notebook</a>'\n",
              "            + ' to learn more about interactive tables.';\n",
              "          element.innerHTML = '';\n",
              "          dataTable['output_type'] = 'display_data';\n",
              "          await google.colab.output.renderOutput(dataTable, element);\n",
              "          const docLink = document.createElement('div');\n",
              "          docLink.innerHTML = docLinkHtml;\n",
              "          element.appendChild(docLink);\n",
              "        }\n",
              "      </script>\n",
              "    </div>\n",
              "  </div>\n",
              "  "
            ]
          },
          "metadata": {},
          "execution_count": 15
        }
      ]
    },
    {
      "cell_type": "code",
      "source": [
        "!pip install py-rouge"
      ],
      "metadata": {
        "colab": {
          "base_uri": "https://localhost:8080/"
        },
        "id": "gN5er3jxEWRQ",
        "outputId": "a5cb5079-826b-4f2f-9e4d-8e8ae089efb5"
      },
      "execution_count": 16,
      "outputs": [
        {
          "output_type": "stream",
          "name": "stdout",
          "text": [
            "Looking in indexes: https://pypi.org/simple, https://us-python.pkg.dev/colab-wheels/public/simple/\n",
            "Collecting py-rouge\n",
            "  Downloading py_rouge-1.1-py3-none-any.whl (56 kB)\n",
            "\u001b[2K     \u001b[90m━━━━━━━━━━━━━━━━━━━━━━━━━━━━━━━━━━━━━━━━\u001b[0m \u001b[32m56.8/56.8 KB\u001b[0m \u001b[31m8.7 MB/s\u001b[0m eta \u001b[36m0:00:00\u001b[0m\n",
            "\u001b[?25hInstalling collected packages: py-rouge\n",
            "Successfully installed py-rouge-1.1\n"
          ]
        }
      ]
    },
    {
      "cell_type": "code",
      "source": [
        "import rouge\n",
        "\n",
        "def prepare_results(p, r, f):\n",
        "    return '\\t{}:\\t{}: {:5.2f}\\t{}: {:5.2f}\\t{}: {:5.2f}'.format(metric, 'P', 100.0 * p, 'R', 100.0 * r, 'F1', 100.0 * f)\n",
        "\n",
        "print(\"Results on Predictions Directly using T5\\n\")\n",
        "for aggregator in ['Avg', 'Best']:\n",
        "    print('Evaluation with {}'.format(aggregator))\n",
        "    apply_avg = aggregator == 'Avg'\n",
        "    apply_best = aggregator == 'Best'\n",
        "\n",
        "    evaluator = rouge.Rouge(metrics=['rouge-n', 'rouge-l', 'rouge-w'],\n",
        "                           max_n=2,\n",
        "                           limit_length=True,\n",
        "                           length_limit=100,\n",
        "                           length_limit_type='words',\n",
        "                           apply_avg=apply_avg,\n",
        "                           apply_best=apply_best,\n",
        "                           alpha=0.5, # Default F1_score\n",
        "                           weight_factor=1.2,\n",
        "                           stemming=True)\n",
        "\n",
        "\n",
        "    all_hypothesis = pred_df['predicted_text']\n",
        "    all_references = pred_df['target_text']\n",
        "\n",
        "    scores = evaluator.get_scores(all_hypothesis, all_references)\n",
        "\n",
        "    for metric, results in sorted(scores.items(), key=lambda x: x[0]):\n",
        "        if not apply_avg and not apply_best: # value is a type of list as we evaluate each summary vs each reference\n",
        "            for hypothesis_id, results_per_ref in enumerate(results):\n",
        "                nb_references = len(results_per_ref['p'])\n",
        "                for reference_id in range(nb_references):\n",
        "                    print('\\tHypothesis #{} & Reference #{}: '.format(hypothesis_id, reference_id))\n",
        "                    print('\\t' + prepare_results(results_per_ref['p'][reference_id], results_per_ref['r'][reference_id], results_per_ref['f'][reference_id]))\n",
        "            print()\n",
        "        else:\n",
        "            print(prepare_results(results['p'], results['r'], results['f']))\n",
        "    print()\n",
        "\n",
        "print(\"Results on Predictions from Extractive + T5\\n\")\n",
        "for aggregator in ['Avg', 'Best']:\n",
        "    print('Evaluation with {}'.format(aggregator))\n",
        "    apply_avg = aggregator == 'Avg'\n",
        "    apply_best = aggregator == 'Best'\n",
        "\n",
        "    evaluator = rouge.Rouge(metrics=['rouge-n', 'rouge-l', 'rouge-w'],\n",
        "                           max_n=2,\n",
        "                           limit_length=True,\n",
        "                           length_limit=100,\n",
        "                           length_limit_type='words',\n",
        "                           apply_avg=apply_avg,\n",
        "                           apply_best=apply_best,\n",
        "                           alpha=0.5, # Default F1_score\n",
        "                           weight_factor=1.2,\n",
        "                           stemming=True)\n",
        "\n",
        "\n",
        "    all_hypothesis = pred_df['predicted_after_extractive']\n",
        "    all_references = pred_df['target_text']\n",
        "\n",
        "    scores = evaluator.get_scores(all_hypothesis, all_references)\n",
        "\n",
        "    for metric, results in sorted(scores.items(), key=lambda x: x[0]):\n",
        "        if not apply_avg and not apply_best: # value is a type of list as we evaluate each summary vs each reference\n",
        "            for hypothesis_id, results_per_ref in enumerate(results):\n",
        "                nb_references = len(results_per_ref['p'])\n",
        "                for reference_id in range(nb_references):\n",
        "                    print('\\tHypothesis #{} & Reference #{}: '.format(hypothesis_id, reference_id))\n",
        "                    print('\\t' + prepare_results(results_per_ref['p'][reference_id], results_per_ref['r'][reference_id], results_per_ref['f'][reference_id]))\n",
        "            print()\n",
        "        else:\n",
        "            print(prepare_results(results['p'], results['r'], results['f']))\n",
        "    print()"
      ],
      "metadata": {
        "colab": {
          "base_uri": "https://localhost:8080/"
        },
        "id": "FZEHqeADEaPe",
        "outputId": "e28642a9-9625-4020-df5d-aeab12ea359a"
      },
      "execution_count": 17,
      "outputs": [
        {
          "output_type": "stream",
          "name": "stdout",
          "text": [
            "Results on Predictions Directly using T5\n",
            "\n",
            "Evaluation with Avg\n",
            "\trouge-1:\tP: 43.38\tR: 50.34\tF1: 45.51\n",
            "\trouge-2:\tP: 20.10\tR: 23.33\tF1: 21.05\n",
            "\trouge-l:\tP: 37.03\tR: 41.94\tF1: 38.65\n",
            "\trouge-w:\tP: 23.51\tR: 12.43\tF1: 15.81\n",
            "\n",
            "Evaluation with Best\n",
            "\trouge-1:\tP: 43.38\tR: 50.34\tF1: 45.51\n",
            "\trouge-2:\tP: 20.10\tR: 23.33\tF1: 21.05\n",
            "\trouge-l:\tP: 37.03\tR: 41.94\tF1: 38.65\n",
            "\trouge-w:\tP: 23.51\tR: 12.43\tF1: 15.81\n",
            "\n",
            "Results on Predictions from Extractive + T5\n",
            "\n",
            "Evaluation with Avg\n",
            "\trouge-1:\tP: 41.71\tR: 45.47\tF1: 42.46\n",
            "\trouge-2:\tP: 17.51\tR: 19.24\tF1: 17.87\n",
            "\trouge-l:\tP: 33.49\tR: 35.98\tF1: 34.08\n",
            "\trouge-w:\tP: 21.19\tR: 10.49\tF1: 13.64\n",
            "\n",
            "Evaluation with Best\n",
            "\trouge-1:\tP: 41.71\tR: 45.47\tF1: 42.46\n",
            "\trouge-2:\tP: 17.51\tR: 19.24\tF1: 17.87\n",
            "\trouge-l:\tP: 33.49\tR: 35.98\tF1: 34.08\n",
            "\trouge-w:\tP: 21.19\tR: 10.49\tF1: 13.64\n",
            "\n"
          ]
        }
      ]
    },
    {
      "cell_type": "markdown",
      "source": [
        "**Few Examples**"
      ],
      "metadata": {
        "id": "r-ortkC3xVik"
      }
    },
    {
      "cell_type": "code",
      "source": [
        "create_summaries(\"\"\"The study objective is to contemplate the effectiveness of COVID-19 on the air pollution of Indian ter\u0002ritory from January 2020 to April 2020. We have executed data from European Space Agency (ESA) and CPCB online portal for air quality data dissemination. The Sentinel e 5 P satellite images elucidate that the Air quality of Indian territory has been improved significantly during COVID-19. Mumbai and Delhi are one of the most populated cities. These two cities have observed a substantial decrease in Nitrogen Dioxide (40e50%) compared to the same period last year. It suggests that the emergence of COVID-19 has been proved to a necessary evil as being advantageous for mitigating air pollution on Indian territory during the lock-down. The study found a significant decline in Nitrogen Dioxide in reputed states of India, i.e., Delhi and Mumbai. Moreover, a faded track of Nitrogen Dioxide can be seen at the Maritime route in the Indian Ocean. An upsurge in the environmental quality of India will also be beneficial for its neighbor countries, i.e., China, Pakistan, Iran, and Afghanistan.\"\"\")"
      ],
      "metadata": {
        "colab": {
          "base_uri": "https://localhost:8080/"
        },
        "id": "abNM4-GDFdVo",
        "outputId": "41edcad4-bf2c-4ebc-bd92-b05e1c783cae"
      },
      "execution_count": 18,
      "outputs": [
        {
          "output_type": "stream",
          "name": "stdout",
          "text": [
            "ACTUAL ABSTRACT - The study objective is to contemplate the effectiveness of COVID-19 on the air pollution of Indian ter\u0002ritory from January 2020 to April 2020. We have executed data from European Space Agency (ESA) and CPCB online portal for air quality data dissemination. The Sentinel e 5 P satellite images elucidate that the Air quality of Indian territory has been improved significantly during COVID-19. Mumbai and Delhi are one of the most populated cities. These two cities have observed a substantial decrease in Nitrogen Dioxide (40e50%) compared to the same period last year. It suggests that the emergence of COVID-19 has been proved to a necessary evil as being advantageous for mitigating air pollution on Indian territory during the lock-down. The study found a significant decline in Nitrogen Dioxide in reputed states of India, i.e., Delhi and Mumbai. Moreover, a faded track of Nitrogen Dioxide can be seen at the Maritime route in the Indian Ocean. An upsurge in the environmental quality of India will also be beneficial for its neighbor countries, i.e., China, Pakistan, Iran, and Afghanistan.\n",
            "\n",
            "Length of Abstract = 176\n",
            "\n",
            "DIRECT SUMMARIZATION USING T5 - Air quality of Indian territory has been improved significantly during COVID-19. Mumbai and Delhi have observed a substantial decline in Nitrogen Dioxide (40e50%) compared to the same period last year. A faded track of Nitrogen Dioxide can be seen at the Maritime route in the Indian Ocean. An upsurge in the environmental quality of India will also be beneficial for its neighbor countries.\n",
            "\n",
            "Length of Summary = 63\n",
            "\n",
            "SUMMARIZATION AFTER EXTRACTIVE USING T5 - COVID-19 is beneficial for mitigating air pollution of Indian territory during the lock down. The study found a significant decline in Nitrogen Dioxide in reputed states of India. The Sentinel e 5 P satellite images elucidate that the Air quality of Indian territory has been improved significantly. An upsurge in the environmental quality of India will also be beneficial for its neighbor countries.\n",
            "\n",
            "Length of Summary = 63\n"
          ]
        }
      ]
    },
    {
      "cell_type": "code",
      "source": [
        "create_summaries(\"\"\"The aim of the study is to introduce some approach which might help in improving daily temperature of data. Weather is a natural a phenomenon for which forecasting is a great challenge today. Weather parameters such as Rainfall, Relative Humidity , Wind Speed, Air Temperature are highly non-linear and complex phenomena, which include mathematical simulation and modeling for its correct forecasting. Weather Forecasting is use to simplify the purpose of knowledge and tools that are used for the state of atmosphere at a given place. The prediction is becoming more complicated due to changing weather condition. There are different software and types are available for Time Series forecasting. Our aim is to analyze the parameters and do the comparison of some strategies in predicting these temperatures. Here we tend to analyze the data of given parameters and notice the prediction for few period using the strategy of Autoregressive Integrated Moving Average (ARIMA) and Exponential Smoothing (ETS).The data from meteorological centers are taken for comparison of methods using packages such as ggplot2, forecast, time Date in R and automatic prediction strategies are available within the package applied for modeling with ARIMA and ETS methods. On basis of accuracy we tend to attempt the simplest Methodology. Our model will compare on basis of MAE, MASE, MAPE AND RMSE. The identification of model will chromatic inspection of both the ACF and PACF to hypothesize many possible models will estimated by selection criteria AIC, AICc and BIC.\"\"\")"
      ],
      "metadata": {
        "colab": {
          "base_uri": "https://localhost:8080/"
        },
        "id": "34u0j7evVzsx",
        "outputId": "23376133-5070-4802-f440-9a95e91c2652"
      },
      "execution_count": 19,
      "outputs": [
        {
          "output_type": "stream",
          "name": "stdout",
          "text": [
            "ACTUAL ABSTRACT - The aim of the study is to introduce some approach which might help in improving daily temperature of data. Weather is a natural a phenomenon for which forecasting is a great challenge today. Weather parameters such as Rainfall, Relative Humidity , Wind Speed, Air Temperature are highly non-linear and complex phenomena, which include mathematical simulation and modeling for its correct forecasting. Weather Forecasting is use to simplify the purpose of knowledge and tools that are used for the state of atmosphere at a given place. The prediction is becoming more complicated due to changing weather condition. There are different software and types are available for Time Series forecasting. Our aim is to analyze the parameters and do the comparison of some strategies in predicting these temperatures. Here we tend to analyze the data of given parameters and notice the prediction for few period using the strategy of Autoregressive Integrated Moving Average (ARIMA) and Exponential Smoothing (ETS).The data from meteorological centers are taken for comparison of methods using packages such as ggplot2, forecast, time Date in R and automatic prediction strategies are available within the package applied for modeling with ARIMA and ETS methods. On basis of accuracy we tend to attempt the simplest Methodology. Our model will compare on basis of MAE, MASE, MAPE AND RMSE. The identification of model will chromatic inspection of both the ACF and PACF to hypothesize many possible models will estimated by selection criteria AIC, AICc and BIC.\n",
            "\n",
            "Length of Abstract = 243\n",
            "\n",
            "DIRECT SUMMARIZATION USING T5 - Weather is a nonlinear and complex phenomena. Weather parameters such as Rainfall, Relative Humidity Wind Speed, Air Temperature are highly complex. Different software and types are available for Time Series forecasting. We tend to analyze the data of given parameters and notice the prediction for few period using the strategy of Autoregressive Integrated Moving Average (ARIMA) and Exponential Smoothing (ETS). The identification of model will chromatic inspection of both ACF and PACF\n",
            "\n",
            "Length of Summary = 72\n",
            "\n",
            "SUMMARIZATION AFTER EXTRACTIVE USING T5 - Weather parameters such as Rainfall Relative Humidity Wind Speed Air Temperature are highly nonlinear and complex phenomena which require mathematical simulation and modeling for its correct forecasting. Different software and types are available for Time Series forecasting. The identification of model will chromatic inspection of both the ACF and PACF to hypothesize many possible models will estimated by selection criteria AIC, AICc and BIC.\n",
            "\n",
            "Length of Summary = 64\n"
          ]
        }
      ]
    },
    {
      "cell_type": "code",
      "source": [
        "create_summaries(\"\"\"This paper explores the concept of economies and diseconomies of scale in the production process. Economies of scale refer to cost advantages that a firm experience as it increases its level of output, while diseconomies of scale refer to the increased costs that a firm experience as it increases its level of output. The paper provides a comprehensive examination of the different types of economies and diseconomies of scale, including internal and external economies and diseconomies of scale. The paper also discusses the various factors that can affect economies and diseconomies of scale and provides insights on how firms can effectively navigate these challenges. The paper concludes by highlighting the importance of considering economies and diseconomies of scale in the production process and the impact it can have on the overall efficiency and profitability of a firm.\"\"\")"
      ],
      "metadata": {
        "colab": {
          "base_uri": "https://localhost:8080/"
        },
        "id": "uEAmie4fvogf",
        "outputId": "bef05c5f-6984-4cb8-9d91-b654176b72d1"
      },
      "execution_count": 20,
      "outputs": [
        {
          "output_type": "stream",
          "name": "stdout",
          "text": [
            "ACTUAL ABSTRACT - This paper explores the concept of economies and diseconomies of scale in the production process. Economies of scale refer to cost advantages that a firm experience as it increases its level of output, while diseconomies of scale refer to the increased costs that a firm experience as it increases its level of output. The paper provides a comprehensive examination of the different types of economies and diseconomies of scale, including internal and external economies and diseconomies of scale. The paper also discusses the various factors that can affect economies and diseconomies of scale and provides insights on how firms can effectively navigate these challenges. The paper concludes by highlighting the importance of considering economies and diseconomies of scale in the production process and the impact it can have on the overall efficiency and profitability of a firm.\n",
            "\n",
            "Length of Abstract = 137\n",
            "\n",
            "DIRECT SUMMARIZATION USING T5 - The paper explores the concept of economies and diseconomies of scale in the production process. It provides a comprehensive examination of the different types of economies and diseconomies of scale. It discusses the various factors that can affect economies and diseconomies of scale. It concludes by highlighting the importance of considering economies and diseconomies of scale in the production process.\n",
            "\n",
            "Length of Summary = 60\n",
            "\n",
            "SUMMARIZATION AFTER EXTRACTIVE USING T5 - The paper discusses the different types of economies and diseconomies of scale. It explores the impact it can have on the overall efficiency and profitability of a firm. It provides a comprehensive examination of the different types of economies and diseconomies of scale.\n",
            "\n",
            "Length of Summary = 43\n"
          ]
        }
      ]
    },
    {
      "cell_type": "markdown",
      "source": [
        "Summarizing Examples"
      ],
      "metadata": {
        "id": "Anp9YlKHyCeS"
      }
    },
    {
      "cell_type": "code",
      "source": [
        "create_summaries(\"\"\"Let's use two hypothetical retail businesses as an example and compare them. One of them is a major company by the name of Malwart, while the other is a tiny neighbourhood shop by the name of Bob's Sporting Goods. Bob handles all of his distribution and inventory management manually and alone. Malwart maintains its distribution in the meanwhile using sophisticated software created only for them. It should come as no surprise that Malwart manages his inventory and distribution considerably more effectively and productively than Bob does. However, because his business is too small and he cannot afford to spend so much money, Bob is unable to invest in similar software.\"\"\")"
      ],
      "metadata": {
        "colab": {
          "base_uri": "https://localhost:8080/"
        },
        "id": "86KGHub4wqJc",
        "outputId": "4324a20d-4390-4bf8-b875-b332c15ec0e3"
      },
      "execution_count": 21,
      "outputs": [
        {
          "output_type": "stream",
          "name": "stdout",
          "text": [
            "ACTUAL ABSTRACT - Let's use two hypothetical retail businesses as an example and compare them. One of them is a major company by the name of Malwart, while the other is a tiny neighbourhood shop by the name of Bob's Sporting Goods. Bob handles all of his distribution and inventory management manually and alone. Malwart maintains its distribution in the meanwhile using sophisticated software created only for them. It should come as no surprise that Malwart manages his inventory and distribution considerably more effectively and productively than Bob does. However, because his business is too small and he cannot afford to spend so much money, Bob is unable to invest in similar software.\n",
            "\n",
            "Length of Abstract = 110\n",
            "\n",
            "DIRECT SUMMARIZATION USING T5 - We compare two retail businesses as examples. Malwart is a major company while Bob is a small neighbourhood shop. Bob can't afford to spend so much money on software for his business. Malwart manages his distribution and inventory considerably more effectively than Bob.\n",
            "\n",
            "Length of Summary = 43\n",
            "\n",
            "SUMMARIZATION AFTER EXTRACTIVE USING T5 - Malwart is a major company but Bob can't afford to spend so much money. Malwart manages his distribution and inventory considerably more effectively and productively than Bob does. Bob handles all of his distribution and inventory management manually and alone. Malwart maintains its distribution in the meanwhile using sophisticated software created only for them.\n",
            "\n",
            "Length of Summary = 54\n"
          ]
        }
      ]
    },
    {
      "cell_type": "markdown",
      "source": [
        "Summarizing generic text paragraphs"
      ],
      "metadata": {
        "id": "Ke3E6LfcyD2B"
      }
    },
    {
      "cell_type": "code",
      "source": [
        "create_summaries(\"\"\"Holi is the festival of colors celebrated with our loved ones. It is one of the biggest festivals in our country which comes every year during March. Children, adults and even the elder citizens take part in the fun and preparations of Holi for three days starting from a full moon day. People from all religions play Holi by exchanging sweets, gujiya, thandai and splashing colors on each other. Water guns and water balloons are also used by children during the Holidays.\"\"\")"
      ],
      "metadata": {
        "colab": {
          "base_uri": "https://localhost:8080/"
        },
        "id": "0Ob8T00FxFxa",
        "outputId": "fd63f793-9468-4482-d4ea-5cf671cf22ca"
      },
      "execution_count": 22,
      "outputs": [
        {
          "output_type": "stream",
          "name": "stdout",
          "text": [
            "ACTUAL ABSTRACT - Holi is the festival of colors celebrated with our loved ones. It is one of the biggest festivals in our country which comes every year during March. Children, adults and even the elder citizens take part in the fun and preparations of Holi for three days starting from a full moon day. People from all religions play Holi by exchanging sweets, gujiya, thandai and splashing colors on each other. Water guns and water balloons are also used by children during the Holidays.\n",
            "\n",
            "Length of Abstract = 82\n",
            "\n",
            "DIRECT SUMMARIZATION USING T5 - Children and adults take part in the fun and preparations of Holi for three days starting from a full moon day. People from all religions play Holi by exchanging sweets, gujiya, thandai and splashing colors on each other. Water guns and water balloons are also used by children during the Holidays.\n",
            "\n",
            "Length of Summary = 51\n",
            "\n",
            "SUMMARIZATION AFTER EXTRACTIVE USING T5 - Holi is the festival of colors celebrated with our loved ones. People from all religions play Holi by exchanging sweets, gujiya, thandai and splashing colors on each other. Water guns and water balloons are also used by children during the Holidays.\n",
            "\n",
            "Length of Summary = 41\n"
          ]
        }
      ]
    }
  ]
}